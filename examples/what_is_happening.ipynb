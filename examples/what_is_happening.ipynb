{
 "cells": [
  {
   "cell_type": "code",
   "execution_count": 1,
   "metadata": {},
   "outputs": [],
   "source": [
    "# ensure the notebook always starts in the same state\n",
    "# by removing any previous experiments\n",
    "!rm -rf ./experiments\n",
    "%load_ext autoreload\n",
    "%autoreload 2"
   ]
  },
  {
   "attachments": {},
   "cell_type": "markdown",
   "metadata": {},
   "source": [
    "<div align=\"center\">\n",
    "<img src=\"../docs/source/logo.svg\" width=\"50%\">\n",
    "</div>\n",
    "\n",
    "What is happening under the hood of `digital-experiments`? \n",
    "> N.B. this notebook uses the python package `seedir`. \\\n",
    "> You can install it using `pip install seedir[emoji]`."
   ]
  },
  {
   "cell_type": "code",
   "execution_count": 2,
   "metadata": {},
   "outputs": [],
   "source": [
    "from digital_experiments import experiment\n",
    "\n",
    "@experiment\n",
    "def volume(height, width=None, depth=None):\n",
    "    if width is None:\n",
    "        width = height\n",
    "    if depth is None:\n",
    "        depth = height\n",
    "    return height * width * depth"
   ]
  },
  {
   "attachments": {},
   "cell_type": "markdown",
   "metadata": {},
   "source": [
    "As soon as we define an experiment, some files for tracking our experiments are created:\n"
   ]
  },
  {
   "cell_type": "code",
   "execution_count": 3,
   "metadata": {},
   "outputs": [
    {
     "name": "stdout",
     "output_type": "stream",
     "text": [
      "📁 experiments/\n",
      "└─📁 volume/\n",
      "  └─📁 version-1/\n",
      "    ├─📄 .code\n",
      "    ├─📄 .backend\n",
      "    └─📁 runs/\n"
     ]
    }
   ],
   "source": [
    "!seedir -p ./experiments -y emoji"
   ]
  },
  {
   "attachments": {},
   "cell_type": "markdown",
   "metadata": {},
   "source": [
    "What is all this? \n",
    "\n",
    "By default, `digital-experiments` creates a folder named `experiments` in the current working directory. This folder contains a subfolder for named after each experiment (in this case `volume`).\n",
    "\n",
    "`digital-experiments` versions code "
   ]
  },
  {
   "cell_type": "code",
   "execution_count": 4,
   "metadata": {},
   "outputs": [
    {
     "name": "stdout",
     "output_type": "stream",
     "text": [
      "@experiment\n",
      "def volume(height, width=None, depth=None):\n",
      "    if width is None:\n",
      "        width = height\n",
      "    if depth is None:\n",
      "        depth = height\n",
      "    return height * width * depth\n"
     ]
    }
   ],
   "source": [
    "!cat ./experiments/volume/version-1/.code"
   ]
  },
  {
   "cell_type": "code",
   "execution_count": null,
   "metadata": {},
   "outputs": [],
   "source": []
  }
 ],
 "metadata": {
  "kernelspec": {
   "display_name": "de-dev",
   "language": "python",
   "name": "python3"
  },
  "language_info": {
   "codemirror_mode": {
    "name": "ipython",
    "version": 3
   },
   "file_extension": ".py",
   "mimetype": "text/x-python",
   "name": "python",
   "nbconvert_exporter": "python",
   "pygments_lexer": "ipython3",
   "version": "3.8.15"
  },
  "orig_nbformat": 4,
  "vscode": {
   "interpreter": {
    "hash": "80ed1a1fc187410e403b41aa2c43c7664c5b47123137e9ddc42c2f7703e457a4"
   }
  }
 },
 "nbformat": 4,
 "nbformat_minor": 2
}
