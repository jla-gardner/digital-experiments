{
 "cells": [
  {
   "cell_type": "code",
   "execution_count": 1,
   "metadata": {},
   "outputs": [],
   "source": [
    "# ensure the notebook always starts in the same state\n",
    "# by removing any previous experiments\n",
    "!rm -rf ./experiments\n",
    "%load_ext autoreload\n",
    "%autoreload 2"
   ]
  },
  {
   "attachments": {},
   "cell_type": "markdown",
   "metadata": {},
   "source": [
    "<div align=\"center\">\n",
    "<img src=\"../docs/source/logo.svg\" width=\"50%\">\n",
    "</div>\n",
    "\n",
    "# The Basics\n",
    "\n",
    "When we do science, we perform experiments. An experiment is completely defined by the procedure we follow, and the conditions we start from.\n",
    "\n",
    "In a `digital experiment`, the procedure we perform is a block of code, and the conditions we start from are the starting values of any variables we use. Conveniently, this is exactly what a function is in `python`!\n",
    "\n",
    "When we do real science, we often keep track of what we've done in a notebook or journal. The `digital-experiments` package is a digital equivalent! To start keeping track of an experiment (a python function), use the `@experiment` decorator like so:"
   ]
  },
  {
   "cell_type": "code",
   "execution_count": 2,
   "metadata": {},
   "outputs": [],
   "source": [
    "from digital_experiments import experiment\n",
    "\n",
    "@experiment\n",
    "def my_experiment(a, b, h=2):\n",
    "    # do the actual experiment\n",
    "    c = a + b / 2\n",
    "    return c ** h"
   ]
  },
  {
   "attachments": {},
   "cell_type": "markdown",
   "metadata": {},
   "source": [
    "On the surface, this decorator does nothing to our function: it behaves exactly as we expect:"
   ]
  },
  {
   "cell_type": "code",
   "execution_count": 3,
   "metadata": {},
   "outputs": [
    {
     "data": {
      "text/plain": [
       "6.25"
      ]
     },
     "execution_count": 3,
     "metadata": {},
     "output_type": "execute_result"
    }
   ],
   "source": [
    "my_experiment(1, 3)"
   ]
  },
  {
   "attachments": {},
   "cell_type": "markdown",
   "metadata": {},
   "source": [
    "Under the hood, however, `digital-experiments` is keeping track of the function's inputs and outputs, _i.e.,_ the **observations** we make. \n",
    "\n",
    "We can access these like so:"
   ]
  },
  {
   "cell_type": "code",
   "execution_count": 4,
   "metadata": {},
   "outputs": [
    {
     "data": {
      "text/plain": [
       "[Observation(config={'a': 1, 'b': 3, 'h': 2}, result=6.25)]"
      ]
     },
     "execution_count": 4,
     "metadata": {},
     "output_type": "execute_result"
    }
   ],
   "source": [
    "my_experiment.observations"
   ]
  },
  {
   "attachments": {},
   "cell_type": "markdown",
   "metadata": {},
   "source": [
    "A more convenient way to view these observations is as a `pandas` dataframe:"
   ]
  },
  {
   "cell_type": "code",
   "execution_count": 5,
   "metadata": {},
   "outputs": [
    {
     "data": {
      "text/html": [
       "<div>\n",
       "<style scoped>\n",
       "    .dataframe tbody tr th:only-of-type {\n",
       "        vertical-align: middle;\n",
       "    }\n",
       "\n",
       "    .dataframe tbody tr th {\n",
       "        vertical-align: top;\n",
       "    }\n",
       "\n",
       "    .dataframe thead th {\n",
       "        text-align: right;\n",
       "    }\n",
       "</style>\n",
       "<table border=\"1\" class=\"dataframe\">\n",
       "  <thead>\n",
       "    <tr style=\"text-align: right;\">\n",
       "      <th></th>\n",
       "      <th>result</th>\n",
       "      <th>a</th>\n",
       "      <th>b</th>\n",
       "      <th>h</th>\n",
       "    </tr>\n",
       "  </thead>\n",
       "  <tbody>\n",
       "    <tr>\n",
       "      <th>0</th>\n",
       "      <td>6.25</td>\n",
       "      <td>1</td>\n",
       "      <td>3</td>\n",
       "      <td>2</td>\n",
       "    </tr>\n",
       "    <tr>\n",
       "      <th>1</th>\n",
       "      <td>1.00</td>\n",
       "      <td>2</td>\n",
       "      <td>3</td>\n",
       "      <td>0</td>\n",
       "    </tr>\n",
       "    <tr>\n",
       "      <th>2</th>\n",
       "      <td>3.50</td>\n",
       "      <td>2</td>\n",
       "      <td>3</td>\n",
       "      <td>1</td>\n",
       "    </tr>\n",
       "    <tr>\n",
       "      <th>3</th>\n",
       "      <td>12.25</td>\n",
       "      <td>2</td>\n",
       "      <td>3</td>\n",
       "      <td>2</td>\n",
       "    </tr>\n",
       "  </tbody>\n",
       "</table>\n",
       "</div>"
      ],
      "text/plain": [
       "   result  a  b  h\n",
       "0    6.25  1  3  2\n",
       "1    1.00  2  3  0\n",
       "2    3.50  2  3  1\n",
       "3   12.25  2  3  2"
      ]
     },
     "execution_count": 5,
     "metadata": {},
     "output_type": "execute_result"
    }
   ],
   "source": [
    "# make some more observations\n",
    "for i in range(3):\n",
    "    my_experiment(a=2, b=3, h=i)\n",
    "\n",
    "my_experiment.to_dataframe()"
   ]
  },
  {
   "attachments": {},
   "cell_type": "markdown",
   "metadata": {},
   "source": [
    "... and thats it! If you can turn your digital experiment into a python function, you can use the `@experiment` decorator to keep track of all the observations you make. Conveniently, these observations are saved to your hardrive, and so you can access them later, or share them with others (see later)."
   ]
  }
 ],
 "metadata": {
  "kernelspec": {
   "display_name": "de-dev",
   "language": "python",
   "name": "python3"
  },
  "language_info": {
   "codemirror_mode": {
    "name": "ipython",
    "version": 3
   },
   "file_extension": ".py",
   "mimetype": "text/x-python",
   "name": "python",
   "nbconvert_exporter": "python",
   "pygments_lexer": "ipython3",
   "version": "3.8.15"
  },
  "orig_nbformat": 4,
  "vscode": {
   "interpreter": {
    "hash": "80ed1a1fc187410e403b41aa2c43c7664c5b47123137e9ddc42c2f7703e457a4"
   }
  }
 },
 "nbformat": 4,
 "nbformat_minor": 2
}
