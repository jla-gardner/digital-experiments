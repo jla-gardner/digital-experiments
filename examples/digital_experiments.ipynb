{
 "cells": [
  {
   "cell_type": "code",
   "execution_count": 1,
   "metadata": {},
   "outputs": [],
   "source": [
    "# this ensures that the notebook is always reloaded in the same state\n",
    "from example_utils import *\n",
    "\n",
    "# remove all previous experiments\n",
    "!rm -rf my_experiment \n",
    "!rm -rf my-talkative-experiments\n",
    "!rm -rf linear_regression"
   ]
  },
  {
   "cell_type": "markdown",
   "metadata": {},
   "source": [
    "# Digital Experiments"
   ]
  },
  {
   "cell_type": "markdown",
   "metadata": {},
   "source": [
    "## The Basics\n",
    "\n",
    "At its most basic, a digital experiment is a peice of code that takes some inputs and produces some results.\n",
    "\n",
    "To keep track of these inputs and results automatically, `digital_experiments` provides the `@experiment` decorator:"
   ]
  },
  {
   "cell_type": "code",
   "execution_count": 2,
   "metadata": {},
   "outputs": [],
   "source": [
    "from digital_experiments import experiment\n",
    "\n",
    "@experiment\n",
    "def my_experiment(a, b, power=2):\n",
    "    return (a - b) ** power + a"
   ]
  },
  {
   "cell_type": "markdown",
   "metadata": {},
   "source": [
    "Running an experiment and recording the output is as simple as calling the function:"
   ]
  },
  {
   "cell_type": "code",
   "execution_count": 3,
   "metadata": {},
   "outputs": [
    {
     "data": {
      "text/plain": [
       "2"
      ]
     },
     "execution_count": 3,
     "metadata": {},
     "output_type": "execute_result"
    }
   ],
   "source": [
    "my_experiment(1, 2)"
   ]
  },
  {
   "cell_type": "markdown",
   "metadata": {},
   "source": [
    "We can see that digital_experiments logs that an experiment has occurred, together with the arguments used to run it (including defaults from the function that we didn't pass!)\n",
    "\n",
    "By default, a folder to hold all of these experiments is created with the name of the function (in this case `my_experiment`). \n",
    "\n",
    "Each call of the function corresponds to a single experiment. These are named with the timestep at which they were started (so that they appear in chronological order within file systems) together with a human readable identifier, and appear as sub-folders:"
   ]
  },
  {
   "cell_type": "code",
   "execution_count": 4,
   "metadata": {},
   "outputs": [
    {
     "name": "stdout",
     "output_type": "stream",
     "text": [
      "├── .backend\n",
      "├── 221117-152825-4181-rosy-baby\n",
      "│   ├── config.json\n",
      "│   ├── metadata.json\n",
      "│   └── results.json\n",
      "└── code.py\n"
     ]
    }
   ],
   "source": [
    "tree(\"my_experiment\")"
   ]
  },
  {
   "cell_type": "markdown",
   "metadata": {},
   "source": [
    "Under-the-hood, `digital_experiments` has saved everything we want to know about this experiment!\n",
    "\n",
    "We can inspect experiment files directly from the file system:"
   ]
  },
  {
   "cell_type": "code",
   "execution_count": 5,
   "metadata": {},
   "outputs": [
    {
     "name": "stdout",
     "output_type": "stream",
     "text": [
      "{\n",
      "    \"a\": 1,\n",
      "    \"b\": 2,\n",
      "    \"power\": 2\n",
      "}"
     ]
    }
   ],
   "source": [
    "!cat my_experiment/*/config.json"
   ]
  },
  {
   "cell_type": "markdown",
   "metadata": {},
   "source": [
    "... and also access them from within python:"
   ]
  },
  {
   "cell_type": "code",
   "execution_count": 6,
   "metadata": {},
   "outputs": [
    {
     "data": {
      "text/html": [
       "<div>\n",
       "<style scoped>\n",
       "    .dataframe tbody tr th:only-of-type {\n",
       "        vertical-align: middle;\n",
       "    }\n",
       "\n",
       "    .dataframe tbody tr th {\n",
       "        vertical-align: top;\n",
       "    }\n",
       "\n",
       "    .dataframe thead th {\n",
       "        text-align: right;\n",
       "    }\n",
       "</style>\n",
       "<table border=\"1\" class=\"dataframe\">\n",
       "  <thead>\n",
       "    <tr style=\"text-align: right;\">\n",
       "      <th></th>\n",
       "      <th>id</th>\n",
       "      <th>config.a</th>\n",
       "      <th>config.b</th>\n",
       "      <th>config.power</th>\n",
       "      <th>results</th>\n",
       "    </tr>\n",
       "  </thead>\n",
       "  <tbody>\n",
       "    <tr>\n",
       "      <th>0</th>\n",
       "      <td>221117-152825-4181-rosy-baby</td>\n",
       "      <td>1</td>\n",
       "      <td>2</td>\n",
       "      <td>2</td>\n",
       "      <td>2</td>\n",
       "    </tr>\n",
       "  </tbody>\n",
       "</table>\n",
       "</div>"
      ],
      "text/plain": [
       "                             id  config.a  config.b  config.power  results\n",
       "0  221117-152825-4181-rosy-baby         1         2             2        2"
      ]
     },
     "execution_count": 6,
     "metadata": {},
     "output_type": "execute_result"
    }
   ],
   "source": [
    "from digital_experiments import all_experiments\n",
    "all_experiments(my_experiment)"
   ]
  },
  {
   "cell_type": "code",
   "execution_count": 7,
   "metadata": {},
   "outputs": [
    {
     "data": {
      "text/plain": [
       "[Experiment(id='221117-152825-4181-rosy-baby', config={'a': 1, 'b': 2, 'power': 2}, results=2, metadata={'timing': {'start': 1668698905.418559, 'end': 1668698905.418566}})]"
      ]
     },
     "execution_count": 7,
     "metadata": {},
     "output_type": "execute_result"
    }
   ],
   "source": [
    "from digital_experiments import convert_to_experiments\n",
    "\n",
    "df = all_experiments(my_experiment, metadata=True)\n",
    "convert_to_experiments(df)"
   ]
  },
  {
   "cell_type": "markdown",
   "metadata": {},
   "source": [
    "## Advanced Usage"
   ]
  },
  {
   "cell_type": "markdown",
   "metadata": {},
   "source": [
    "### Logging and Verbosity\n",
    "\n",
    "The experiment decorator can take several keyword arguments:\n",
    "- `save_to` specifies the folder to save all experiments to (defaults to the name of the function)\n",
    "- `capture_logs` - if this is set to True, anything printed from within the experiment is saved to `log`\n",
    "- `verbose` - controls whether `digital_experiments` prints additional information about each experiment"
   ]
  },
  {
   "cell_type": "code",
   "execution_count": 8,
   "metadata": {},
   "outputs": [
    {
     "name": "stdout",
     "output_type": "stream",
     "text": [
      "Starting new experiment - 221117-152825-9507-ajar-rush\n",
      "Arguments: {\n",
      "    \"a\": 1,\n",
      "    \"b\": 2,\n",
      "    \"power\": 2\n",
      "}\n",
      "Hello!\n",
      "Finished experiment - 221117-152825-9507-ajar-rush\n",
      "\n"
     ]
    },
    {
     "data": {
      "text/plain": [
       "2"
      ]
     },
     "execution_count": 8,
     "metadata": {},
     "output_type": "execute_result"
    }
   ],
   "source": [
    "@experiment(save_to=\"my-talkative-experiments\", verbose=True, capture_logs=True)\n",
    "def talkative_experiment(a, b, power=2):\n",
    "    print(\"Hello!\")\n",
    "    return (a - b) ** power + a\n",
    "\n",
    "talkative_experiment(1, 2)"
   ]
  },
  {
   "cell_type": "code",
   "execution_count": 9,
   "metadata": {},
   "outputs": [
    {
     "name": "stdout",
     "output_type": "stream",
     "text": [
      "Starting new experiment - 221117-152825-9507-ajar-rush\n",
      "Arguments: {\n",
      "    \"a\": 1,\n",
      "    \"b\": 2,\n",
      "    \"power\": 2\n",
      "}\n",
      "Hello!\n",
      "Finished experiment - 221117-152825-9507-ajar-rush\n",
      "\n"
     ]
    }
   ],
   "source": [
    "!cat my-talkative-experiments/*/log"
   ]
  },
  {
   "cell_type": "markdown",
   "metadata": {},
   "source": [
    "### Multiple Results and Artefacts\n",
    "\n",
    "It is often the case that we have more than a single result.\n",
    "`digital_experiments` can handle these intelligently when they are returned as an (optionally nested) dict.\n",
    "\n",
    "Artefacts can be automatically be saved in the correct folder using the `current_directory` function:"
   ]
  },
  {
   "cell_type": "code",
   "execution_count": 10,
   "metadata": {},
   "outputs": [
    {
     "data": {
      "text/plain": [
       "{'mae': {'train': 0.9737829415128569, 'test': 5.615792030139374}}"
      ]
     },
     "execution_count": 10,
     "metadata": {},
     "output_type": "execute_result"
    }
   ],
   "source": [
    "import pickle\n",
    "import numpy as np\n",
    "from sklearn.linear_model import Ridge\n",
    "from digital_experiments import current_directory\n",
    "\n",
    "np.random.seed(6)\n",
    "\n",
    "X = np.random.rand(100, 3) * 20\n",
    "y = X[:,0] * 2 + X[:,1] * 4 + 2 + np.random.randn(100) * 5\n",
    "\n",
    "\n",
    "@experiment(verbose=False)\n",
    "def linear_regression(alpha, fit_intercept=True):\n",
    "    model = Ridge(alpha, fit_intercept=fit_intercept)\n",
    "    train, test = slice(0, 10), slice(90, 100)\n",
    "\n",
    "    model.fit(X[train], y[train])\n",
    "    yhat = model.predict(X)\n",
    "    errors = yhat - y\n",
    "\n",
    "    with open(current_directory() / \"model.pkl\", \"wb\") as f:\n",
    "        pickle.dump(model, f)\n",
    "\n",
    "    return {\n",
    "        \"mae\": {\n",
    "            name: np.abs(errors[split]).mean()\n",
    "            for name, split in zip([\"train\", \"test\"], [train, test])\n",
    "        },\n",
    "    }\n",
    "\n",
    "\n",
    "linear_regression(alpha=0)"
   ]
  },
  {
   "cell_type": "code",
   "execution_count": 11,
   "metadata": {},
   "outputs": [],
   "source": [
    "for alpha in range(1, 10):\n",
    "    linear_regression(alpha * 5)"
   ]
  },
  {
   "cell_type": "markdown",
   "metadata": {},
   "source": [
    "Nested results are flattened using \".\":"
   ]
  },
  {
   "cell_type": "code",
   "execution_count": 12,
   "metadata": {},
   "outputs": [
    {
     "data": {
      "text/html": [
       "<div>\n",
       "<style scoped>\n",
       "    .dataframe tbody tr th:only-of-type {\n",
       "        vertical-align: middle;\n",
       "    }\n",
       "\n",
       "    .dataframe tbody tr th {\n",
       "        vertical-align: top;\n",
       "    }\n",
       "\n",
       "    .dataframe thead th {\n",
       "        text-align: right;\n",
       "    }\n",
       "</style>\n",
       "<table border=\"1\" class=\"dataframe\">\n",
       "  <thead>\n",
       "    <tr style=\"text-align: right;\">\n",
       "      <th></th>\n",
       "      <th>id</th>\n",
       "      <th>config.alpha</th>\n",
       "      <th>config.fit_intercept</th>\n",
       "      <th>results.mae.train</th>\n",
       "      <th>results.mae.test</th>\n",
       "    </tr>\n",
       "  </thead>\n",
       "  <tbody>\n",
       "    <tr>\n",
       "      <th>1</th>\n",
       "      <td>221117-152826-8168-back-gene</td>\n",
       "      <td>0</td>\n",
       "      <td>True</td>\n",
       "      <td>0.973783</td>\n",
       "      <td>5.615792</td>\n",
       "    </tr>\n",
       "    <tr>\n",
       "      <th>0</th>\n",
       "      <td>221117-152826-8525-limp-cold</td>\n",
       "      <td>5</td>\n",
       "      <td>True</td>\n",
       "      <td>1.078108</td>\n",
       "      <td>5.240720</td>\n",
       "    </tr>\n",
       "    <tr>\n",
       "      <th>4</th>\n",
       "      <td>221117-152826-8562-fake-fuel</td>\n",
       "      <td>10</td>\n",
       "      <td>True</td>\n",
       "      <td>1.304290</td>\n",
       "      <td>4.899661</td>\n",
       "    </tr>\n",
       "    <tr>\n",
       "      <th>9</th>\n",
       "      <td>221117-152826-8574-lame-game</td>\n",
       "      <td>15</td>\n",
       "      <td>True</td>\n",
       "      <td>1.575662</td>\n",
       "      <td>4.716825</td>\n",
       "    </tr>\n",
       "    <tr>\n",
       "      <th>6</th>\n",
       "      <td>221117-152826-8580-lazy-food</td>\n",
       "      <td>20</td>\n",
       "      <td>True</td>\n",
       "      <td>1.912852</td>\n",
       "      <td>4.628257</td>\n",
       "    </tr>\n",
       "    <tr>\n",
       "      <th>3</th>\n",
       "      <td>221117-152826-8587-sore-page</td>\n",
       "      <td>25</td>\n",
       "      <td>True</td>\n",
       "      <td>2.267020</td>\n",
       "      <td>4.550531</td>\n",
       "    </tr>\n",
       "    <tr>\n",
       "      <th>7</th>\n",
       "      <td>221117-152826-8594-limp-tour</td>\n",
       "      <td>30</td>\n",
       "      <td>True</td>\n",
       "      <td>2.600822</td>\n",
       "      <td>4.517051</td>\n",
       "    </tr>\n",
       "    <tr>\n",
       "      <th>2</th>\n",
       "      <td>221117-152826-8600-tart-kind</td>\n",
       "      <td>35</td>\n",
       "      <td>True</td>\n",
       "      <td>2.916348</td>\n",
       "      <td>4.663442</td>\n",
       "    </tr>\n",
       "    <tr>\n",
       "      <th>5</th>\n",
       "      <td>221117-152826-8606-zany-knee</td>\n",
       "      <td>40</td>\n",
       "      <td>True</td>\n",
       "      <td>3.215390</td>\n",
       "      <td>4.804743</td>\n",
       "    </tr>\n",
       "    <tr>\n",
       "      <th>8</th>\n",
       "      <td>221117-152826-8612-pink-pass</td>\n",
       "      <td>45</td>\n",
       "      <td>True</td>\n",
       "      <td>3.499491</td>\n",
       "      <td>4.941329</td>\n",
       "    </tr>\n",
       "  </tbody>\n",
       "</table>\n",
       "</div>"
      ],
      "text/plain": [
       "                             id  config.alpha  config.fit_intercept  \\\n",
       "1  221117-152826-8168-back-gene             0                  True   \n",
       "0  221117-152826-8525-limp-cold             5                  True   \n",
       "4  221117-152826-8562-fake-fuel            10                  True   \n",
       "9  221117-152826-8574-lame-game            15                  True   \n",
       "6  221117-152826-8580-lazy-food            20                  True   \n",
       "3  221117-152826-8587-sore-page            25                  True   \n",
       "7  221117-152826-8594-limp-tour            30                  True   \n",
       "2  221117-152826-8600-tart-kind            35                  True   \n",
       "5  221117-152826-8606-zany-knee            40                  True   \n",
       "8  221117-152826-8612-pink-pass            45                  True   \n",
       "\n",
       "   results.mae.train  results.mae.test  \n",
       "1           0.973783          5.615792  \n",
       "0           1.078108          5.240720  \n",
       "4           1.304290          4.899661  \n",
       "9           1.575662          4.716825  \n",
       "6           1.912852          4.628257  \n",
       "3           2.267020          4.550531  \n",
       "7           2.600822          4.517051  \n",
       "2           2.916348          4.663442  \n",
       "5           3.215390          4.804743  \n",
       "8           3.499491          4.941329  "
      ]
     },
     "execution_count": 12,
     "metadata": {},
     "output_type": "execute_result"
    }
   ],
   "source": [
    "df = all_experiments(\"linear_regression\")\n",
    "df"
   ]
  },
  {
   "cell_type": "code",
   "execution_count": 13,
   "metadata": {},
   "outputs": [
    {
     "data": {
      "image/png": "[encoded data removed]",
      "text/plain": [
       "<Figure size 400x300 with 2 Axes>"
      ]
     },
     "metadata": {
      "image/png": {
       "height": 294,
       "width": 434
      }
     },
     "output_type": "display_data"
    }
   ],
   "source": [
    "import matplotlib.pyplot as plt\n",
    "%config InlineBackend.figure_format = 'retina'\n",
    "\n",
    "plt.figure(figsize=(4, 3))\n",
    "plt.plot(df['config.alpha'], df['results.mae.test'], \"--ko\")\n",
    "plt.ylabel(\"MAE train\")\n",
    "plt.xlabel(\"alpha\");\n",
    "\n",
    "plt.twinx().plot(df['config.alpha'], df['results.mae.train'], \":rs\")\n",
    "plt.ylabel(\"MAE test\", color=\"r\", rotation=270, labelpad=15);\n",
    "plt.yticks(color=\"r\");"
   ]
  },
  {
   "cell_type": "markdown",
   "metadata": {},
   "source": [
    "Artefacts saved during an experiment can be accessed using `.artefacts`: a mapping of filename to actual path."
   ]
  },
  {
   "cell_type": "code",
   "execution_count": 14,
   "metadata": {},
   "outputs": [
    {
     "data": {
      "text/plain": [
       "{'model.pkl': PosixPath('linear_regression/221117-152826-8525-limp-cold/model.pkl')}"
      ]
     },
     "execution_count": 14,
     "metadata": {},
     "output_type": "execute_result"
    }
   ],
   "source": [
    "from digital_experiments import get_artefacts\n",
    "get_artefacts(\"linear_regression\", df.id[0])"
   ]
  },
  {
   "cell_type": "markdown",
   "metadata": {},
   "source": [
    "### Template Matching\n",
    "\n",
    "When accessing experiments, we can filter them based on their config and results:"
   ]
  },
  {
   "cell_type": "code",
   "execution_count": 15,
   "metadata": {},
   "outputs": [
    {
     "data": {
      "text/html": [
       "<div>\n",
       "<style scoped>\n",
       "    .dataframe tbody tr th:only-of-type {\n",
       "        vertical-align: middle;\n",
       "    }\n",
       "\n",
       "    .dataframe tbody tr th {\n",
       "        vertical-align: top;\n",
       "    }\n",
       "\n",
       "    .dataframe thead th {\n",
       "        text-align: right;\n",
       "    }\n",
       "</style>\n",
       "<table border=\"1\" class=\"dataframe\">\n",
       "  <thead>\n",
       "    <tr style=\"text-align: right;\">\n",
       "      <th></th>\n",
       "      <th>id</th>\n",
       "      <th>config.alpha</th>\n",
       "      <th>config.fit_intercept</th>\n",
       "      <th>results.mae.train</th>\n",
       "      <th>results.mae.test</th>\n",
       "    </tr>\n",
       "  </thead>\n",
       "  <tbody>\n",
       "    <tr>\n",
       "      <th>1</th>\n",
       "      <td>221117-152826-8168-back-gene</td>\n",
       "      <td>0</td>\n",
       "      <td>True</td>\n",
       "      <td>0.973783</td>\n",
       "      <td>5.615792</td>\n",
       "    </tr>\n",
       "  </tbody>\n",
       "</table>\n",
       "</div>"
      ],
      "text/plain": [
       "                             id  config.alpha  config.fit_intercept  \\\n",
       "1  221117-152826-8168-back-gene             0                  True   \n",
       "\n",
       "   results.mae.train  results.mae.test  \n",
       "1           0.973783          5.615792  "
      ]
     },
     "execution_count": 15,
     "metadata": {},
     "output_type": "execute_result"
    }
   ],
   "source": [
    "from digital_experiments import experiments_matching\n",
    "\n",
    "# exact matches\n",
    "experiments_matching(\"linear_regression\", config=dict(alpha=0))"
   ]
  },
  {
   "cell_type": "code",
   "execution_count": 16,
   "metadata": {},
   "outputs": [
    {
     "data": {
      "text/html": [
       "<div>\n",
       "<style scoped>\n",
       "    .dataframe tbody tr th:only-of-type {\n",
       "        vertical-align: middle;\n",
       "    }\n",
       "\n",
       "    .dataframe tbody tr th {\n",
       "        vertical-align: top;\n",
       "    }\n",
       "\n",
       "    .dataframe thead th {\n",
       "        text-align: right;\n",
       "    }\n",
       "</style>\n",
       "<table border=\"1\" class=\"dataframe\">\n",
       "  <thead>\n",
       "    <tr style=\"text-align: right;\">\n",
       "      <th></th>\n",
       "      <th>id</th>\n",
       "      <th>config.alpha</th>\n",
       "      <th>config.fit_intercept</th>\n",
       "      <th>results.mae.train</th>\n",
       "      <th>results.mae.test</th>\n",
       "    </tr>\n",
       "  </thead>\n",
       "  <tbody>\n",
       "    <tr>\n",
       "      <th>1</th>\n",
       "      <td>221117-152826-8168-back-gene</td>\n",
       "      <td>0</td>\n",
       "      <td>True</td>\n",
       "      <td>0.973783</td>\n",
       "      <td>5.615792</td>\n",
       "    </tr>\n",
       "    <tr>\n",
       "      <th>0</th>\n",
       "      <td>221117-152826-8525-limp-cold</td>\n",
       "      <td>5</td>\n",
       "      <td>True</td>\n",
       "      <td>1.078108</td>\n",
       "      <td>5.240720</td>\n",
       "    </tr>\n",
       "    <tr>\n",
       "      <th>4</th>\n",
       "      <td>221117-152826-8562-fake-fuel</td>\n",
       "      <td>10</td>\n",
       "      <td>True</td>\n",
       "      <td>1.304290</td>\n",
       "      <td>4.899661</td>\n",
       "    </tr>\n",
       "    <tr>\n",
       "      <th>9</th>\n",
       "      <td>221117-152826-8574-lame-game</td>\n",
       "      <td>15</td>\n",
       "      <td>True</td>\n",
       "      <td>1.575662</td>\n",
       "      <td>4.716825</td>\n",
       "    </tr>\n",
       "  </tbody>\n",
       "</table>\n",
       "</div>"
      ],
      "text/plain": [
       "                             id  config.alpha  config.fit_intercept  \\\n",
       "1  221117-152826-8168-back-gene             0                  True   \n",
       "0  221117-152826-8525-limp-cold             5                  True   \n",
       "4  221117-152826-8562-fake-fuel            10                  True   \n",
       "9  221117-152826-8574-lame-game            15                  True   \n",
       "\n",
       "   results.mae.train  results.mae.test  \n",
       "1           0.973783          5.615792  \n",
       "0           1.078108          5.240720  \n",
       "4           1.304290          4.899661  \n",
       "9           1.575662          4.716825  "
      ]
     },
     "execution_count": 16,
     "metadata": {},
     "output_type": "execute_result"
    }
   ],
   "source": [
    "# function matches\n",
    "experiments_matching(\"linear_regression\", config=dict(alpha=lambda x: x < 20))"
   ]
  },
  {
   "cell_type": "code",
   "execution_count": 17,
   "metadata": {},
   "outputs": [
    {
     "data": {
      "text/html": [
       "<div>\n",
       "<style scoped>\n",
       "    .dataframe tbody tr th:only-of-type {\n",
       "        vertical-align: middle;\n",
       "    }\n",
       "\n",
       "    .dataframe tbody tr th {\n",
       "        vertical-align: top;\n",
       "    }\n",
       "\n",
       "    .dataframe thead th {\n",
       "        text-align: right;\n",
       "    }\n",
       "</style>\n",
       "<table border=\"1\" class=\"dataframe\">\n",
       "  <thead>\n",
       "    <tr style=\"text-align: right;\">\n",
       "      <th></th>\n",
       "      <th>id</th>\n",
       "      <th>config.alpha</th>\n",
       "      <th>config.fit_intercept</th>\n",
       "      <th>results.mae.train</th>\n",
       "      <th>results.mae.test</th>\n",
       "    </tr>\n",
       "  </thead>\n",
       "  <tbody>\n",
       "    <tr>\n",
       "      <th>6</th>\n",
       "      <td>221117-152826-8580-lazy-food</td>\n",
       "      <td>20</td>\n",
       "      <td>True</td>\n",
       "      <td>1.912852</td>\n",
       "      <td>4.628257</td>\n",
       "    </tr>\n",
       "    <tr>\n",
       "      <th>3</th>\n",
       "      <td>221117-152826-8587-sore-page</td>\n",
       "      <td>25</td>\n",
       "      <td>True</td>\n",
       "      <td>2.267020</td>\n",
       "      <td>4.550531</td>\n",
       "    </tr>\n",
       "    <tr>\n",
       "      <th>7</th>\n",
       "      <td>221117-152826-8594-limp-tour</td>\n",
       "      <td>30</td>\n",
       "      <td>True</td>\n",
       "      <td>2.600822</td>\n",
       "      <td>4.517051</td>\n",
       "    </tr>\n",
       "    <tr>\n",
       "      <th>2</th>\n",
       "      <td>221117-152826-8600-tart-kind</td>\n",
       "      <td>35</td>\n",
       "      <td>True</td>\n",
       "      <td>2.916348</td>\n",
       "      <td>4.663442</td>\n",
       "    </tr>\n",
       "  </tbody>\n",
       "</table>\n",
       "</div>"
      ],
      "text/plain": [
       "                             id  config.alpha  config.fit_intercept  \\\n",
       "6  221117-152826-8580-lazy-food            20                  True   \n",
       "3  221117-152826-8587-sore-page            25                  True   \n",
       "7  221117-152826-8594-limp-tour            30                  True   \n",
       "2  221117-152826-8600-tart-kind            35                  True   \n",
       "\n",
       "   results.mae.train  results.mae.test  \n",
       "6           1.912852          4.628257  \n",
       "3           2.267020          4.550531  \n",
       "7           2.600822          4.517051  \n",
       "2           2.916348          4.663442  "
      ]
     },
     "execution_count": 17,
     "metadata": {},
     "output_type": "execute_result"
    }
   ],
   "source": [
    "# nested filtering:\n",
    "\n",
    "template = {\"results\": {\"mae\": {\"test\": lambda x: x < 4.7}}}\n",
    "experiments_matching(\"linear_regression\", template)"
   ]
  },
  {
   "cell_type": "markdown",
   "metadata": {},
   "source": [
    "## Versions\n",
    "\n",
    "`digital_experiments` also keeps track of the versions of the code used to run an experiment.\n",
    "If the code of the experiment changes, a new version is created in the file system (i.e. old experiments are not overwritten). Reverting the code back to an older version will continue writing to the correct folder."
   ]
  },
  {
   "cell_type": "code",
   "execution_count": 18,
   "metadata": {},
   "outputs": [
    {
     "data": {
      "text/plain": [
       "3"
      ]
     },
     "execution_count": 18,
     "metadata": {},
     "output_type": "execute_result"
    }
   ],
   "source": [
    "@experiment\n",
    "def my_experiment(a, b=2):\n",
    "    return a + b\n",
    "\n",
    "my_experiment(1)"
   ]
  },
  {
   "cell_type": "code",
   "execution_count": 19,
   "metadata": {},
   "outputs": [
    {
     "name": "stdout",
     "output_type": "stream",
     "text": [
      "├── v-1\n",
      "│   ├── .backend\n",
      "│   ├── 221117-152825-4181-rosy-baby\n",
      "│   │   ├── config.json\n",
      "│   │   ├── metadata.json\n",
      "│   │   └── results.json\n",
      "│   └── code.py\n",
      "└── v-2\n",
      "    ├── .backend\n",
      "    ├── 221117-152827-8942-calm-cold\n",
      "    │   ├── config.json\n",
      "    │   ├── metadata.json\n",
      "    │   └── results.json\n",
      "    └── code.py\n"
     ]
    }
   ],
   "source": [
    "tree(\"my_experiment\")"
   ]
  },
  {
   "cell_type": "code",
   "execution_count": 20,
   "metadata": {},
   "outputs": [
    {
     "name": "stdout",
     "output_type": "stream",
     "text": [
      "@experiment\n",
      "def my_experiment(a, b, power=2):\n",
      "    return (a - b) ** power + a\n",
      "@experiment\n",
      "def my_experiment(a, b=2):\n",
      "    return a + b\n"
     ]
    }
   ],
   "source": [
    "!cat my_experiment/*/code.py"
   ]
  },
  {
   "cell_type": "markdown",
   "metadata": {},
   "source": [
    "## Backends\n",
    "\n",
    "`digital_experiments` can be used with any backend that implements the `Backend` interface.\n",
    "`json` and `csv` backends are provided out of the box:"
   ]
  },
  {
   "cell_type": "code",
   "execution_count": 21,
   "metadata": {},
   "outputs": [
    {
     "data": {
      "text/plain": [
       "3"
      ]
     },
     "execution_count": 21,
     "metadata": {},
     "output_type": "execute_result"
    }
   ],
   "source": [
    "@experiment(backend=\"csv\")\n",
    "def my_experiment(a, b=2):\n",
    "    return a + b\n",
    "\n",
    "my_experiment(1)"
   ]
  },
  {
   "cell_type": "code",
   "execution_count": 22,
   "metadata": {},
   "outputs": [
    {
     "name": "stdout",
     "output_type": "stream",
     "text": [
      "├── v-1\n",
      "│   ├── .backend\n",
      "│   ├── 221117-152825-4181-rosy-baby\n",
      "│   │   ├── config.json\n",
      "│   │   ├── metadata.json\n",
      "│   │   └── results.json\n",
      "│   └── code.py\n",
      "├── v-2\n",
      "│   ├── .backend\n",
      "│   ├── 221117-152827-8942-calm-cold\n",
      "│   │   ├── config.json\n",
      "│   │   ├── metadata.json\n",
      "│   │   └── results.json\n",
      "│   └── code.py\n",
      "└── v-3\n",
      "    ├── .backend\n",
      "    ├── code.py\n",
      "    └── results.csv\n"
     ]
    }
   ],
   "source": [
    "tree(\"my_experiment\")"
   ]
  },
  {
   "cell_type": "code",
   "execution_count": 23,
   "metadata": {},
   "outputs": [
    {
     "name": "stdout",
     "output_type": "stream",
     "text": [
      "id,config.a,config.b,results.results,metadata.timing.start,metadata.timing.end\n",
      "221117-152828-3699-spry-army,1,2,3,1668698908.371031,1668698908.371034\n"
     ]
    }
   ],
   "source": [
    "!cat my_experiment/v-3/results.csv"
   ]
  }
 ],
 "metadata": {
  "kernelspec": {
   "display_name": "Python 3.8.13 ('de')",
   "language": "python",
   "name": "python3"
  },
  "language_info": {
   "codemirror_mode": {
    "name": "ipython",
    "version": 3
   },
   "file_extension": ".py",
   "mimetype": "text/x-python",
   "name": "python",
   "nbconvert_exporter": "python",
   "pygments_lexer": "ipython3",
   "version": "3.8.13"
  },
  "orig_nbformat": 4,
  "vscode": {
   "interpreter": {
    "hash": "4b0196ba1f6eaea99fb6124196ce1a2fc1a2bd97909ab6515600b0f46f71de54"
   }
  }
 },
 "nbformat": 4,
 "nbformat_minor": 2
}
