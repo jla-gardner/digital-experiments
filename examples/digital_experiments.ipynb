{
 "cells": [
  {
   "cell_type": "code",
   "execution_count": 1,
   "metadata": {},
   "outputs": [],
   "source": [
    "from example_utils import *\n",
    "\n",
    "# remove all previous experiments\n",
    "!rm -rf my_experiment \n",
    "!rm -rf my-talkative-experiments\n",
    "!rm -rf linear_regression"
   ]
  },
  {
   "cell_type": "markdown",
   "metadata": {},
   "source": [
    "# Digital Experiments"
   ]
  },
  {
   "cell_type": "markdown",
   "metadata": {},
   "source": [
    "## The Basics\n",
    "\n",
    "At its most basic, a digital experiment is a peice of code that takes some inputs and produces some results.\n",
    "\n",
    "To keep track of these inputs and results automatically, `digital_experiments` provides the `@experiment` decorator:"
   ]
  },
  {
   "cell_type": "code",
   "execution_count": 2,
   "metadata": {},
   "outputs": [],
   "source": [
    "from digital_experiments import experiment\n",
    "\n",
    "\n",
    "@experiment\n",
    "def my_experiment(a, b, power=2):\n",
    "    return (a - b) ** power + a"
   ]
  },
  {
   "cell_type": "markdown",
   "metadata": {},
   "source": [
    "Running an experiment and recording the output is as simple as calling the function:"
   ]
  },
  {
   "cell_type": "code",
   "execution_count": 3,
   "metadata": {},
   "outputs": [
    {
     "name": "stdout",
     "output_type": "stream",
     "text": [
      "Starting new experiment - 221021-115458-4914-that-wear\n",
      "Arguments: {\n",
      "    \"a\": 1,\n",
      "    \"b\": 2,\n",
      "    \"power\": 2\n",
      "}\n",
      "Finished experiment - 221021-115458-4914-that-wear\n",
      "\n"
     ]
    },
    {
     "data": {
      "text/plain": [
       "2"
      ]
     },
     "execution_count": 3,
     "metadata": {},
     "output_type": "execute_result"
    }
   ],
   "source": [
    "my_experiment(1, 2)"
   ]
  },
  {
   "cell_type": "markdown",
   "metadata": {},
   "source": [
    "We can see that digital_experiments logs that an experiment has occurred, together with the arguments used to run it (including defaults from the function that we didn't pass!)\n",
    "\n",
    "By default, a folder to hold all of these experiments is created with the name of the function (in this case `my_experiment`). \n",
    "\n",
    "Each call of the function corresponds to a single experiment. These are named with the timestep at which they were started (so that they appear in chronological order within file systems) together with a human readable identifier, and appear as sub-folders:"
   ]
  },
  {
   "cell_type": "code",
   "execution_count": 4,
   "metadata": {},
   "outputs": [
    {
     "name": "stdout",
     "output_type": "stream",
     "text": [
      "my_experiment\n",
      "my_experiment/221021-115458-4914-that-wear\n",
      "my_experiment/221021-115458-4914-that-wear/config.json\n",
      "my_experiment/221021-115458-4914-that-wear/results.json\n",
      "my_experiment/221021-115458-4914-that-wear/metadata.json\n",
      "my_experiment/221021-115458-4914-that-wear/log\n"
     ]
    }
   ],
   "source": [
    "!find my_experiment"
   ]
  },
  {
   "cell_type": "markdown",
   "metadata": {},
   "source": [
    "Under-the-hood, `digital_experiments` has saved everything we want to know about this experiment!\n",
    "\n",
    "We can inspect experiment files directly from the file system:"
   ]
  },
  {
   "cell_type": "code",
   "execution_count": 5,
   "metadata": {},
   "outputs": [
    {
     "name": "stdout",
     "output_type": "stream",
     "text": [
      "{\n",
      "    \"a\": 1,\n",
      "    \"b\": 2,\n",
      "    \"power\": 2\n",
      "}"
     ]
    }
   ],
   "source": [
    "!cat my_experiment/*/config.json"
   ]
  },
  {
   "cell_type": "markdown",
   "metadata": {},
   "source": [
    "... and also access them from within python:"
   ]
  },
  {
   "cell_type": "code",
   "execution_count": 6,
   "metadata": {},
   "outputs": [],
   "source": [
    "from digital_experiments import all_experiments_matching\n",
    "\n",
    "df, experiments = all_experiments_matching(\"my_experiment\")"
   ]
  },
  {
   "cell_type": "code",
   "execution_count": 7,
   "metadata": {},
   "outputs": [
    {
     "data": {
      "text/html": [
       "<div>\n",
       "<style scoped>\n",
       "    .dataframe tbody tr th:only-of-type {\n",
       "        vertical-align: middle;\n",
       "    }\n",
       "\n",
       "    .dataframe tbody tr th {\n",
       "        vertical-align: top;\n",
       "    }\n",
       "\n",
       "    .dataframe thead th {\n",
       "        text-align: right;\n",
       "    }\n",
       "</style>\n",
       "<table border=\"1\" class=\"dataframe\">\n",
       "  <thead>\n",
       "    <tr style=\"text-align: right;\">\n",
       "      <th></th>\n",
       "      <th>experiment_number</th>\n",
       "      <th>a</th>\n",
       "      <th>b</th>\n",
       "      <th>power</th>\n",
       "      <th>result</th>\n",
       "      <th>run_duration</th>\n",
       "    </tr>\n",
       "  </thead>\n",
       "  <tbody>\n",
       "    <tr>\n",
       "      <th>0</th>\n",
       "      <td>0</td>\n",
       "      <td>1</td>\n",
       "      <td>2</td>\n",
       "      <td>2</td>\n",
       "      <td>2</td>\n",
       "      <td>0.000206</td>\n",
       "    </tr>\n",
       "  </tbody>\n",
       "</table>\n",
       "</div>"
      ],
      "text/plain": [
       "   experiment_number  a  b  power  result  run_duration\n",
       "0                  0  1  2      2       2      0.000206"
      ]
     },
     "execution_count": 7,
     "metadata": {},
     "output_type": "execute_result"
    }
   ],
   "source": [
    "# df is a pandas dataframe containing the configurations and results\n",
    "# of all experiments (together with their running time in seconds)\n",
    "df"
   ]
  },
  {
   "cell_type": "code",
   "execution_count": 8,
   "metadata": {},
   "outputs": [
    {
     "data": {
      "text/plain": [
       "{'a': 1, 'b': 2, 'power': 2}"
      ]
     },
     "execution_count": 8,
     "metadata": {},
     "output_type": "execute_result"
    }
   ],
   "source": [
    "# experiments is a list of Experiment objects, indexed by experiment_number\n",
    "experiments[0].config"
   ]
  },
  {
   "cell_type": "code",
   "execution_count": 9,
   "metadata": {},
   "outputs": [
    {
     "data": {
      "text/plain": [
       "2"
      ]
     },
     "execution_count": 9,
     "metadata": {},
     "output_type": "execute_result"
    }
   ],
   "source": [
    "experiments[0].result"
   ]
  },
  {
   "cell_type": "markdown",
   "metadata": {},
   "source": [
    "## Advanced Usage"
   ]
  },
  {
   "cell_type": "markdown",
   "metadata": {},
   "source": [
    "### Logging and Verbosity\n",
    "\n",
    "The experiment decorator can take several keyword arguments:\n",
    "- `save_to` specifies the folder to save all experiments to (defaults to the name of the function)\n",
    "- `capture_logs` - if this is set to True, anything printed from within the experiment is saved to `log`\n",
    "- `verbose` - controls whether `digital_experiments` prints additional information about each experiment"
   ]
  },
  {
   "cell_type": "code",
   "execution_count": 10,
   "metadata": {},
   "outputs": [
    {
     "name": "stdout",
     "output_type": "stream",
     "text": [
      "Hello!\n"
     ]
    },
    {
     "data": {
      "text/plain": [
       "2"
      ]
     },
     "execution_count": 10,
     "metadata": {},
     "output_type": "execute_result"
    }
   ],
   "source": [
    "# i.e. capture logs, but don't print out digita_experiment messages\n",
    "@experiment(save_to=\"my-talkative-experiments\", verbose=False)\n",
    "def talkative_experiment(a, b, power=2):\n",
    "    print(\"Hello!\")\n",
    "    return (a - b) ** power + a\n",
    "\n",
    "talkative_experiment(1, 2)"
   ]
  },
  {
   "cell_type": "code",
   "execution_count": 11,
   "metadata": {},
   "outputs": [
    {
     "name": "stdout",
     "output_type": "stream",
     "text": [
      "Hello!\n"
     ]
    }
   ],
   "source": [
    "!cat my-talkative-experiments/*/log"
   ]
  },
  {
   "cell_type": "code",
   "execution_count": 12,
   "metadata": {},
   "outputs": [
    {
     "data": {
      "text/plain": [
       "'Hello!\\n'"
      ]
     },
     "execution_count": 12,
     "metadata": {},
     "output_type": "execute_result"
    }
   ],
   "source": [
    "_, experiments = all_experiments_matching(\"my-talkative-experiments\")\n",
    "experiments[0].log"
   ]
  },
  {
   "cell_type": "markdown",
   "metadata": {},
   "source": [
    "### Multiple Results and Artefacts\n",
    "\n",
    "It is often the case that we have more than a single result.\n",
    "`digital_experiments` can handle these intelligently when they are returned as an (optionally nested) dict.\n",
    "\n",
    "Artefacts can be automatically be saved in the correct folder using the `current_directory` function:"
   ]
  },
  {
   "cell_type": "code",
   "execution_count": 13,
   "metadata": {},
   "outputs": [
    {
     "data": {
      "text/plain": [
       "{'mae': {'train': 3.880204200094835, 'test': 3.8248210136530894},\n",
       " 'rmse': {'train': 4.41491806942661, 'test': 4.690840163950281}}"
      ]
     },
     "execution_count": 13,
     "metadata": {},
     "output_type": "execute_result"
    }
   ],
   "source": [
    "import pickle\n",
    "import numpy as np\n",
    "from sklearn.linear_model import Ridge\n",
    "from digital_experiments import current_directory\n",
    "\n",
    "\n",
    "X = np.random.rand(100, 3) * 20\n",
    "y = X[:,0] * 2 + X[:,1] * 4 + 2 + np.random.randn(100) * 5\n",
    "\n",
    "\n",
    "@experiment(verbose=False)\n",
    "def linear_regression(alpha, fit_intercept=True):\n",
    "    model = Ridge(alpha, fit_intercept=fit_intercept)\n",
    "    train, test = slice(0, 10), slice(90, 100)\n",
    "\n",
    "    model.fit(X[train], y[train])\n",
    "    yhat = model.predict(X)\n",
    "    errors = yhat - y\n",
    "\n",
    "    with open(current_directory() / \"model.pkl\", \"wb\") as f:\n",
    "        pickle.dump(model, f)\n",
    "\n",
    "    return {\n",
    "        \"mae\": {\n",
    "            name: np.abs(errors[split]).mean()\n",
    "            for name, split in zip([\"train\", \"test\"], [train, test])\n",
    "        },\n",
    "        \"rmse\": {\n",
    "            name: (errors[split] ** 2).mean() ** 0.5\n",
    "            for name, split in zip([\"train\", \"test\"], [train, test])\n",
    "        }\n",
    "    }\n",
    "\n",
    "\n",
    "linear_regression(alpha=0.1)"
   ]
  },
  {
   "cell_type": "code",
   "execution_count": 14,
   "metadata": {},
   "outputs": [],
   "source": [
    "for alpha in range(10):\n",
    "    linear_regression(alpha * 10)"
   ]
  },
  {
   "cell_type": "markdown",
   "metadata": {},
   "source": [
    "Nested results are flattened using \".\":"
   ]
  },
  {
   "cell_type": "code",
   "execution_count": 21,
   "metadata": {},
   "outputs": [
    {
     "data": {
      "text/html": [
       "<div>\n",
       "<style scoped>\n",
       "    .dataframe tbody tr th:only-of-type {\n",
       "        vertical-align: middle;\n",
       "    }\n",
       "\n",
       "    .dataframe tbody tr th {\n",
       "        vertical-align: top;\n",
       "    }\n",
       "\n",
       "    .dataframe thead th {\n",
       "        text-align: right;\n",
       "    }\n",
       "</style>\n",
       "<table border=\"1\" class=\"dataframe\">\n",
       "  <thead>\n",
       "    <tr style=\"text-align: right;\">\n",
       "      <th></th>\n",
       "      <th>experiment_number</th>\n",
       "      <th>alpha</th>\n",
       "      <th>fit_intercept</th>\n",
       "      <th>mae.train</th>\n",
       "      <th>mae.test</th>\n",
       "      <th>rmse.train</th>\n",
       "      <th>rmse.test</th>\n",
       "      <th>run_duration</th>\n",
       "    </tr>\n",
       "  </thead>\n",
       "  <tbody>\n",
       "    <tr>\n",
       "      <th>0</th>\n",
       "      <td>0</td>\n",
       "      <td>0.1</td>\n",
       "      <td>True</td>\n",
       "      <td>3.880204</td>\n",
       "      <td>3.824821</td>\n",
       "      <td>4.414918</td>\n",
       "      <td>4.690840</td>\n",
       "      <td>0.002139</td>\n",
       "    </tr>\n",
       "    <tr>\n",
       "      <th>1</th>\n",
       "      <td>1</td>\n",
       "      <td>0.0</td>\n",
       "      <td>True</td>\n",
       "      <td>3.881955</td>\n",
       "      <td>3.829845</td>\n",
       "      <td>4.414905</td>\n",
       "      <td>4.698168</td>\n",
       "      <td>0.000672</td>\n",
       "    </tr>\n",
       "    <tr>\n",
       "      <th>2</th>\n",
       "      <td>2</td>\n",
       "      <td>10.0</td>\n",
       "      <td>True</td>\n",
       "      <td>3.759434</td>\n",
       "      <td>3.365338</td>\n",
       "      <td>4.530320</td>\n",
       "      <td>4.070843</td>\n",
       "      <td>0.001372</td>\n",
       "    </tr>\n",
       "    <tr>\n",
       "      <th>3</th>\n",
       "      <td>3</td>\n",
       "      <td>20.0</td>\n",
       "      <td>True</td>\n",
       "      <td>3.853732</td>\n",
       "      <td>2.965832</td>\n",
       "      <td>4.818349</td>\n",
       "      <td>3.661490</td>\n",
       "      <td>0.000426</td>\n",
       "    </tr>\n",
       "    <tr>\n",
       "      <th>4</th>\n",
       "      <td>4</td>\n",
       "      <td>30.0</td>\n",
       "      <td>True</td>\n",
       "      <td>4.198785</td>\n",
       "      <td>2.709165</td>\n",
       "      <td>5.206721</td>\n",
       "      <td>3.472825</td>\n",
       "      <td>0.000617</td>\n",
       "    </tr>\n",
       "  </tbody>\n",
       "</table>\n",
       "</div>"
      ],
      "text/plain": [
       "   experiment_number  alpha  fit_intercept  mae.train  mae.test  rmse.train  \\\n",
       "0                  0    0.1           True   3.880204  3.824821    4.414918   \n",
       "1                  1    0.0           True   3.881955  3.829845    4.414905   \n",
       "2                  2   10.0           True   3.759434  3.365338    4.530320   \n",
       "3                  3   20.0           True   3.853732  2.965832    4.818349   \n",
       "4                  4   30.0           True   4.198785  2.709165    5.206721   \n",
       "\n",
       "   rmse.test  run_duration  \n",
       "0   4.690840      0.002139  \n",
       "1   4.698168      0.000672  \n",
       "2   4.070843      0.001372  \n",
       "3   3.661490      0.000426  \n",
       "4   3.472825      0.000617  "
      ]
     },
     "execution_count": 21,
     "metadata": {},
     "output_type": "execute_result"
    }
   ],
   "source": [
    "df, experiments = all_experiments_matching(\"linear_regression\")\n",
    "df.head()"
   ]
  },
  {
   "cell_type": "code",
   "execution_count": 16,
   "metadata": {},
   "outputs": [
    {
     "data": {
      "image/png": "[encoded data removed]",
      "text/plain": [
       "<Figure size 400x300 with 1 Axes>"
      ]
     },
     "metadata": {
      "image/png": {
       "height": 294,
       "width": 390
      }
     },
     "output_type": "display_data"
    }
   ],
   "source": [
    "import matplotlib.pyplot as plt\n",
    "%config InlineBackend.figure_format = 'retina'\n",
    "\n",
    "plt.figure(figsize=(4, 3))\n",
    "plt.plot(df.alpha, df['rmse.test'], \"--ko\")\n",
    "plt.xlabel(\"alpha\")\n",
    "plt.ylabel(\"MAE\");"
   ]
  },
  {
   "cell_type": "markdown",
   "metadata": {},
   "source": [
    "Artefacts saved during an experiment can be accessed using `.artefacts`: a mapping of filename to actual path."
   ]
  },
  {
   "cell_type": "code",
   "execution_count": 22,
   "metadata": {},
   "outputs": [
    {
     "data": {
      "text/plain": [
       "{'model.pkl': PosixPath('linear_regression/221021-115459-7600-vain-help/model.pkl')}"
      ]
     },
     "execution_count": 22,
     "metadata": {},
     "output_type": "execute_result"
    }
   ],
   "source": [
    "experiments[0].artefacts"
   ]
  },
  {
   "cell_type": "markdown",
   "metadata": {},
   "source": [
    "### Template Matching\n",
    "\n",
    "When accessing experiments, we can filter them based on their config:"
   ]
  },
  {
   "cell_type": "code",
   "execution_count": 18,
   "metadata": {},
   "outputs": [],
   "source": [
    "def filter(**template):\n",
    "    df, _ = all_experiments_matching(\"linear_regression\", template)\n",
    "    return df"
   ]
  },
  {
   "cell_type": "code",
   "execution_count": 19,
   "metadata": {},
   "outputs": [
    {
     "data": {
      "text/html": [
       "<div>\n",
       "<style scoped>\n",
       "    .dataframe tbody tr th:only-of-type {\n",
       "        vertical-align: middle;\n",
       "    }\n",
       "\n",
       "    .dataframe tbody tr th {\n",
       "        vertical-align: top;\n",
       "    }\n",
       "\n",
       "    .dataframe thead th {\n",
       "        text-align: right;\n",
       "    }\n",
       "</style>\n",
       "<table border=\"1\" class=\"dataframe\">\n",
       "  <thead>\n",
       "    <tr style=\"text-align: right;\">\n",
       "      <th></th>\n",
       "      <th>experiment_number</th>\n",
       "      <th>alpha</th>\n",
       "      <th>fit_intercept</th>\n",
       "      <th>mae.train</th>\n",
       "      <th>mae.test</th>\n",
       "      <th>rmse.train</th>\n",
       "      <th>rmse.test</th>\n",
       "      <th>run_duration</th>\n",
       "    </tr>\n",
       "  </thead>\n",
       "  <tbody>\n",
       "    <tr>\n",
       "      <th>0</th>\n",
       "      <td>0</td>\n",
       "      <td>0</td>\n",
       "      <td>True</td>\n",
       "      <td>3.881955</td>\n",
       "      <td>3.829845</td>\n",
       "      <td>4.414905</td>\n",
       "      <td>4.698168</td>\n",
       "      <td>0.000672</td>\n",
       "    </tr>\n",
       "  </tbody>\n",
       "</table>\n",
       "</div>"
      ],
      "text/plain": [
       "   experiment_number  alpha  fit_intercept  mae.train  mae.test  rmse.train  \\\n",
       "0                  0      0           True   3.881955  3.829845    4.414905   \n",
       "\n",
       "   rmse.test  run_duration  \n",
       "0   4.698168      0.000672  "
      ]
     },
     "execution_count": 19,
     "metadata": {},
     "output_type": "execute_result"
    }
   ],
   "source": [
    "# exact matches\n",
    "filter(alpha=0)"
   ]
  },
  {
   "cell_type": "code",
   "execution_count": 20,
   "metadata": {},
   "outputs": [
    {
     "data": {
      "text/html": [
       "<div>\n",
       "<style scoped>\n",
       "    .dataframe tbody tr th:only-of-type {\n",
       "        vertical-align: middle;\n",
       "    }\n",
       "\n",
       "    .dataframe tbody tr th {\n",
       "        vertical-align: top;\n",
       "    }\n",
       "\n",
       "    .dataframe thead th {\n",
       "        text-align: right;\n",
       "    }\n",
       "</style>\n",
       "<table border=\"1\" class=\"dataframe\">\n",
       "  <thead>\n",
       "    <tr style=\"text-align: right;\">\n",
       "      <th></th>\n",
       "      <th>experiment_number</th>\n",
       "      <th>alpha</th>\n",
       "      <th>fit_intercept</th>\n",
       "      <th>mae.train</th>\n",
       "      <th>mae.test</th>\n",
       "      <th>rmse.train</th>\n",
       "      <th>rmse.test</th>\n",
       "      <th>run_duration</th>\n",
       "    </tr>\n",
       "  </thead>\n",
       "  <tbody>\n",
       "    <tr>\n",
       "      <th>0</th>\n",
       "      <td>0</td>\n",
       "      <td>20</td>\n",
       "      <td>True</td>\n",
       "      <td>3.853732</td>\n",
       "      <td>2.965832</td>\n",
       "      <td>4.818349</td>\n",
       "      <td>3.661490</td>\n",
       "      <td>0.000426</td>\n",
       "    </tr>\n",
       "    <tr>\n",
       "      <th>1</th>\n",
       "      <td>1</td>\n",
       "      <td>30</td>\n",
       "      <td>True</td>\n",
       "      <td>4.198785</td>\n",
       "      <td>2.709165</td>\n",
       "      <td>5.206721</td>\n",
       "      <td>3.472825</td>\n",
       "      <td>0.000617</td>\n",
       "    </tr>\n",
       "    <tr>\n",
       "      <th>2</th>\n",
       "      <td>2</td>\n",
       "      <td>40</td>\n",
       "      <td>True</td>\n",
       "      <td>4.552280</td>\n",
       "      <td>2.710215</td>\n",
       "      <td>5.646378</td>\n",
       "      <td>3.487600</td>\n",
       "      <td>0.000362</td>\n",
       "    </tr>\n",
       "    <tr>\n",
       "      <th>3</th>\n",
       "      <td>3</td>\n",
       "      <td>50</td>\n",
       "      <td>True</td>\n",
       "      <td>4.973246</td>\n",
       "      <td>2.755630</td>\n",
       "      <td>6.107214</td>\n",
       "      <td>3.665605</td>\n",
       "      <td>0.000659</td>\n",
       "    </tr>\n",
       "    <tr>\n",
       "      <th>4</th>\n",
       "      <td>4</td>\n",
       "      <td>60</td>\n",
       "      <td>True</td>\n",
       "      <td>5.354879</td>\n",
       "      <td>2.871210</td>\n",
       "      <td>6.571638</td>\n",
       "      <td>3.957766</td>\n",
       "      <td>0.000365</td>\n",
       "    </tr>\n",
       "    <tr>\n",
       "      <th>5</th>\n",
       "      <td>5</td>\n",
       "      <td>70</td>\n",
       "      <td>True</td>\n",
       "      <td>5.754096</td>\n",
       "      <td>3.219142</td>\n",
       "      <td>7.029657</td>\n",
       "      <td>4.321155</td>\n",
       "      <td>0.000319</td>\n",
       "    </tr>\n",
       "    <tr>\n",
       "      <th>6</th>\n",
       "      <td>6</td>\n",
       "      <td>80</td>\n",
       "      <td>True</td>\n",
       "      <td>6.192353</td>\n",
       "      <td>3.654612</td>\n",
       "      <td>7.475758</td>\n",
       "      <td>4.724593</td>\n",
       "      <td>0.000755</td>\n",
       "    </tr>\n",
       "    <tr>\n",
       "      <th>7</th>\n",
       "      <td>7</td>\n",
       "      <td>90</td>\n",
       "      <td>True</td>\n",
       "      <td>6.601797</td>\n",
       "      <td>4.133839</td>\n",
       "      <td>7.907054</td>\n",
       "      <td>5.147491</td>\n",
       "      <td>0.000473</td>\n",
       "    </tr>\n",
       "  </tbody>\n",
       "</table>\n",
       "</div>"
      ],
      "text/plain": [
       "   experiment_number  alpha  fit_intercept  mae.train  mae.test  rmse.train  \\\n",
       "0                  0     20           True   3.853732  2.965832    4.818349   \n",
       "1                  1     30           True   4.198785  2.709165    5.206721   \n",
       "2                  2     40           True   4.552280  2.710215    5.646378   \n",
       "3                  3     50           True   4.973246  2.755630    6.107214   \n",
       "4                  4     60           True   5.354879  2.871210    6.571638   \n",
       "5                  5     70           True   5.754096  3.219142    7.029657   \n",
       "6                  6     80           True   6.192353  3.654612    7.475758   \n",
       "7                  7     90           True   6.601797  4.133839    7.907054   \n",
       "\n",
       "   rmse.test  run_duration  \n",
       "0   3.661490      0.000426  \n",
       "1   3.472825      0.000617  \n",
       "2   3.487600      0.000362  \n",
       "3   3.665605      0.000659  \n",
       "4   3.957766      0.000365  \n",
       "5   4.321155      0.000319  \n",
       "6   4.724593      0.000755  \n",
       "7   5.147491      0.000473  "
      ]
     },
     "execution_count": 20,
     "metadata": {},
     "output_type": "execute_result"
    }
   ],
   "source": [
    "# function\n",
    "filter(alpha=lambda x: x >= 20)"
   ]
  }
 ],
 "metadata": {
  "kernelspec": {
   "display_name": "Python 3.8.13 ('de')",
   "language": "python",
   "name": "python3"
  },
  "language_info": {
   "codemirror_mode": {
    "name": "ipython",
    "version": 3
   },
   "file_extension": ".py",
   "mimetype": "text/x-python",
   "name": "python",
   "nbconvert_exporter": "python",
   "pygments_lexer": "ipython3",
   "version": "3.8.13"
  },
  "orig_nbformat": 4,
  "vscode": {
   "interpreter": {
    "hash": "4b0196ba1f6eaea99fb6124196ce1a2fc1a2bd97909ab6515600b0f46f71de54"
   }
  }
 },
 "nbformat": 4,
 "nbformat_minor": 2
}
