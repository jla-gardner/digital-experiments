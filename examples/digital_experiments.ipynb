{
 "cells": [
  {
   "cell_type": "code",
   "execution_count": 1,
   "metadata": {},
   "outputs": [],
   "source": [
    "# this ensures that the notebook is always reloaded in the same state\n",
    "from example_utils import *\n",
    "\n",
    "# remove all previous experiments\n",
    "!rm -rf my_experiment \n",
    "!rm -rf my-talkative-experiments\n",
    "!rm -rf linear_regression"
   ]
  },
  {
   "cell_type": "markdown",
   "metadata": {},
   "source": [
    "# Digital Experiments"
   ]
  },
  {
   "cell_type": "markdown",
   "metadata": {},
   "source": [
    "## The Basics\n",
    "\n",
    "At its most basic, a digital experiment is a peice of code that takes some inputs and produces some results.\n",
    "\n",
    "To keep track of these inputs and results automatically, `digital_experiments` provides the `@experiment` decorator:"
   ]
  },
  {
   "cell_type": "code",
   "execution_count": 2,
   "metadata": {},
   "outputs": [],
   "source": [
    "from digital_experiments import experiment\n",
    "\n",
    "@experiment\n",
    "def my_experiment(a, b, power=2):\n",
    "    return (a - b) ** power + a"
   ]
  },
  {
   "cell_type": "markdown",
   "metadata": {},
   "source": [
    "Running an experiment and recording the output is as simple as calling the function:"
   ]
  },
  {
   "cell_type": "code",
   "execution_count": 3,
   "metadata": {},
   "outputs": [
    {
     "data": {
      "text/plain": [
       "2"
      ]
     },
     "execution_count": 3,
     "metadata": {},
     "output_type": "execute_result"
    }
   ],
   "source": [
    "my_experiment(1, 2)"
   ]
  },
  {
   "cell_type": "markdown",
   "metadata": {},
   "source": [
    "We can see that digital_experiments logs that an experiment has occurred, together with the arguments used to run it (including defaults from the function that we didn't pass!)\n",
    "\n",
    "By default, a folder to hold all of these experiments is created with the name of the function (in this case `my_experiment`). \n",
    "\n",
    "Each call of the function corresponds to a single experiment. These are named with the timestep at which they were started (so that they appear in chronological order within file systems) together with a human readable identifier, and appear as sub-folders:"
   ]
  },
  {
   "cell_type": "code",
   "execution_count": 4,
   "metadata": {},
   "outputs": [
    {
     "name": "stdout",
     "output_type": "stream",
     "text": [
      "├── .backend\n",
      "├── 221116-140837-4975-numb-shoe\n",
      "│   ├── config.json\n",
      "│   ├── metadata.json\n",
      "│   └── results.json\n",
      "└── code.py\n"
     ]
    }
   ],
   "source": [
    "tree(\"my_experiment\")"
   ]
  },
  {
   "cell_type": "markdown",
   "metadata": {},
   "source": [
    "Under-the-hood, `digital_experiments` has saved everything we want to know about this experiment!\n",
    "\n",
    "We can inspect experiment files directly from the file system:"
   ]
  },
  {
   "cell_type": "code",
   "execution_count": 5,
   "metadata": {},
   "outputs": [
    {
     "name": "stdout",
     "output_type": "stream",
     "text": [
      "{\n",
      "    \"a\": 1,\n",
      "    \"b\": 2,\n",
      "    \"power\": 2\n",
      "}"
     ]
    }
   ],
   "source": [
    "!cat my_experiment/*/config.json"
   ]
  },
  {
   "cell_type": "markdown",
   "metadata": {},
   "source": [
    "... and also access them from within python:"
   ]
  },
  {
   "cell_type": "code",
   "execution_count": 6,
   "metadata": {},
   "outputs": [
    {
     "data": {
      "text/html": [
       "<div>\n",
       "<style scoped>\n",
       "    .dataframe tbody tr th:only-of-type {\n",
       "        vertical-align: middle;\n",
       "    }\n",
       "\n",
       "    .dataframe tbody tr th {\n",
       "        vertical-align: top;\n",
       "    }\n",
       "\n",
       "    .dataframe thead th {\n",
       "        text-align: right;\n",
       "    }\n",
       "</style>\n",
       "<table border=\"1\" class=\"dataframe\">\n",
       "  <thead>\n",
       "    <tr style=\"text-align: right;\">\n",
       "      <th></th>\n",
       "      <th>id</th>\n",
       "      <th>a</th>\n",
       "      <th>b</th>\n",
       "      <th>power</th>\n",
       "      <th>result</th>\n",
       "    </tr>\n",
       "  </thead>\n",
       "  <tbody>\n",
       "    <tr>\n",
       "      <th>0</th>\n",
       "      <td>221116-140837-4975-numb-shoe</td>\n",
       "      <td>1</td>\n",
       "      <td>2</td>\n",
       "      <td>2</td>\n",
       "      <td>2</td>\n",
       "    </tr>\n",
       "  </tbody>\n",
       "</table>\n",
       "</div>"
      ],
      "text/plain": [
       "                             id  a  b  power  result\n",
       "0  221116-140837-4975-numb-shoe  1  2      2       2"
      ]
     },
     "execution_count": 6,
     "metadata": {},
     "output_type": "execute_result"
    }
   ],
   "source": [
    "from digital_experiments import all_experiments\n",
    "all_experiments(my_experiment)"
   ]
  },
  {
   "cell_type": "markdown",
   "metadata": {},
   "source": [
    "## Advanced Usage"
   ]
  },
  {
   "cell_type": "markdown",
   "metadata": {},
   "source": [
    "### Logging and Verbosity\n",
    "\n",
    "The experiment decorator can take several keyword arguments:\n",
    "- `save_to` specifies the folder to save all experiments to (defaults to the name of the function)\n",
    "- `capture_logs` - if this is set to True, anything printed from within the experiment is saved to `log`\n",
    "- `verbose` - controls whether `digital_experiments` prints additional information about each experiment"
   ]
  },
  {
   "cell_type": "code",
   "execution_count": 7,
   "metadata": {},
   "outputs": [
    {
     "name": "stdout",
     "output_type": "stream",
     "text": [
      "Starting new experiment - 221116-140837-9229-blue-main\n",
      "Arguments: {\n",
      "    \"a\": 1,\n",
      "    \"b\": 2,\n",
      "    \"power\": 2\n",
      "}\n",
      "Hello!\n",
      "Finished experiment - 221116-140837-9229-blue-main\n",
      "\n"
     ]
    },
    {
     "data": {
      "text/plain": [
       "2"
      ]
     },
     "execution_count": 7,
     "metadata": {},
     "output_type": "execute_result"
    }
   ],
   "source": [
    "@experiment(save_to=\"my-talkative-experiments\", verbose=True, capture_logs=True)\n",
    "def talkative_experiment(a, b, power=2):\n",
    "    print(\"Hello!\")\n",
    "    return (a - b) ** power + a\n",
    "\n",
    "talkative_experiment(1, 2)"
   ]
  },
  {
   "cell_type": "code",
   "execution_count": 8,
   "metadata": {},
   "outputs": [
    {
     "name": "stdout",
     "output_type": "stream",
     "text": [
      "Hello!\n"
     ]
    }
   ],
   "source": [
    "!cat my-talkative-experiments/*/log"
   ]
  },
  {
   "cell_type": "markdown",
   "metadata": {},
   "source": [
    "### Multiple Results and Artefacts\n",
    "\n",
    "It is often the case that we have more than a single result.\n",
    "`digital_experiments` can handle these intelligently when they are returned as an (optionally nested) dict.\n",
    "\n",
    "Artefacts can be automatically be saved in the correct folder using the `current_directory` function:"
   ]
  },
  {
   "cell_type": "code",
   "execution_count": 9,
   "metadata": {},
   "outputs": [
    {
     "data": {
      "text/plain": [
       "{'mae': {'train': 0.9737829415128569, 'test': 5.615792030139374},\n",
       " 'rmse': {'train': 1.1536968041748403, 'test': 7.186958533952817}}"
      ]
     },
     "execution_count": 9,
     "metadata": {},
     "output_type": "execute_result"
    }
   ],
   "source": [
    "import pickle\n",
    "import numpy as np\n",
    "from sklearn.linear_model import Ridge\n",
    "from digital_experiments import current_directory\n",
    "\n",
    "np.random.seed(6)\n",
    "\n",
    "X = np.random.rand(100, 3) * 20\n",
    "y = X[:,0] * 2 + X[:,1] * 4 + 2 + np.random.randn(100) * 5\n",
    "\n",
    "\n",
    "@experiment(verbose=False)\n",
    "def linear_regression(alpha, fit_intercept=True):\n",
    "    model = Ridge(alpha, fit_intercept=fit_intercept)\n",
    "    train, test = slice(0, 10), slice(90, 100)\n",
    "\n",
    "    model.fit(X[train], y[train])\n",
    "    yhat = model.predict(X)\n",
    "    errors = yhat - y\n",
    "\n",
    "    with open(current_directory() / \"model.pkl\", \"wb\") as f:\n",
    "        pickle.dump(model, f)\n",
    "\n",
    "    return {\n",
    "        \"mae\": {\n",
    "            name: np.abs(errors[split]).mean()\n",
    "            for name, split in zip([\"train\", \"test\"], [train, test])\n",
    "        },\n",
    "        \"rmse\": {\n",
    "            name: (errors[split] ** 2).mean() ** 0.5\n",
    "            for name, split in zip([\"train\", \"test\"], [train, test])\n",
    "        }\n",
    "    }\n",
    "\n",
    "\n",
    "linear_regression(alpha=0)"
   ]
  },
  {
   "cell_type": "code",
   "execution_count": 10,
   "metadata": {},
   "outputs": [],
   "source": [
    "for alpha in range(1, 10):\n",
    "    linear_regression(alpha * 5)"
   ]
  },
  {
   "cell_type": "markdown",
   "metadata": {},
   "source": [
    "Nested results are flattened using \".\":"
   ]
  },
  {
   "cell_type": "code",
   "execution_count": 11,
   "metadata": {},
   "outputs": [
    {
     "data": {
      "text/html": [
       "<div>\n",
       "<style scoped>\n",
       "    .dataframe tbody tr th:only-of-type {\n",
       "        vertical-align: middle;\n",
       "    }\n",
       "\n",
       "    .dataframe tbody tr th {\n",
       "        vertical-align: top;\n",
       "    }\n",
       "\n",
       "    .dataframe thead th {\n",
       "        text-align: right;\n",
       "    }\n",
       "</style>\n",
       "<table border=\"1\" class=\"dataframe\">\n",
       "  <thead>\n",
       "    <tr style=\"text-align: right;\">\n",
       "      <th></th>\n",
       "      <th>id</th>\n",
       "      <th>alpha</th>\n",
       "      <th>fit_intercept</th>\n",
       "      <th>mae.train</th>\n",
       "      <th>mae.test</th>\n",
       "      <th>rmse.train</th>\n",
       "      <th>rmse.test</th>\n",
       "    </tr>\n",
       "  </thead>\n",
       "  <tbody>\n",
       "    <tr>\n",
       "      <th>0</th>\n",
       "      <td>221116-140838-4941-smug-text</td>\n",
       "      <td>0</td>\n",
       "      <td>True</td>\n",
       "      <td>0.973783</td>\n",
       "      <td>5.615792</td>\n",
       "      <td>1.153697</td>\n",
       "      <td>7.186959</td>\n",
       "    </tr>\n",
       "    <tr>\n",
       "      <th>1</th>\n",
       "      <td>221116-140838-5662-drab-burn</td>\n",
       "      <td>5</td>\n",
       "      <td>True</td>\n",
       "      <td>1.078108</td>\n",
       "      <td>5.240720</td>\n",
       "      <td>1.267344</td>\n",
       "      <td>6.813575</td>\n",
       "    </tr>\n",
       "    <tr>\n",
       "      <th>2</th>\n",
       "      <td>221116-140838-5689-wiry-clue</td>\n",
       "      <td>10</td>\n",
       "      <td>True</td>\n",
       "      <td>1.304290</td>\n",
       "      <td>4.899661</td>\n",
       "      <td>1.534452</td>\n",
       "      <td>6.520374</td>\n",
       "    </tr>\n",
       "    <tr>\n",
       "      <th>3</th>\n",
       "      <td>221116-140838-5702-real-rent</td>\n",
       "      <td>15</td>\n",
       "      <td>True</td>\n",
       "      <td>1.575662</td>\n",
       "      <td>4.716825</td>\n",
       "      <td>1.865973</td>\n",
       "      <td>6.298366</td>\n",
       "    </tr>\n",
       "    <tr>\n",
       "      <th>4</th>\n",
       "      <td>221116-140838-5709-mild-fall</td>\n",
       "      <td>20</td>\n",
       "      <td>True</td>\n",
       "      <td>1.912852</td>\n",
       "      <td>4.628257</td>\n",
       "      <td>2.217161</td>\n",
       "      <td>6.139268</td>\n",
       "    </tr>\n",
       "    <tr>\n",
       "      <th>5</th>\n",
       "      <td>221116-140838-5715-left-bake</td>\n",
       "      <td>25</td>\n",
       "      <td>True</td>\n",
       "      <td>2.267020</td>\n",
       "      <td>4.550531</td>\n",
       "      <td>2.569086</td>\n",
       "      <td>6.035315</td>\n",
       "    </tr>\n",
       "    <tr>\n",
       "      <th>6</th>\n",
       "      <td>221116-140838-5721-weak-unit</td>\n",
       "      <td>30</td>\n",
       "      <td>True</td>\n",
       "      <td>2.600822</td>\n",
       "      <td>4.517051</td>\n",
       "      <td>2.913901</td>\n",
       "      <td>5.979203</td>\n",
       "    </tr>\n",
       "    <tr>\n",
       "      <th>7</th>\n",
       "      <td>221116-140838-5730-idle-exam</td>\n",
       "      <td>35</td>\n",
       "      <td>True</td>\n",
       "      <td>2.916348</td>\n",
       "      <td>4.663442</td>\n",
       "      <td>3.248451</td>\n",
       "      <td>5.964124</td>\n",
       "    </tr>\n",
       "    <tr>\n",
       "      <th>8</th>\n",
       "      <td>221116-140838-5738-grim-sale</td>\n",
       "      <td>40</td>\n",
       "      <td>True</td>\n",
       "      <td>3.215390</td>\n",
       "      <td>4.804743</td>\n",
       "      <td>3.571648</td>\n",
       "      <td>5.983819</td>\n",
       "    </tr>\n",
       "    <tr>\n",
       "      <th>9</th>\n",
       "      <td>221116-140838-5745-slow-idea</td>\n",
       "      <td>45</td>\n",
       "      <td>True</td>\n",
       "      <td>3.499491</td>\n",
       "      <td>4.941329</td>\n",
       "      <td>3.883356</td>\n",
       "      <td>6.032641</td>\n",
       "    </tr>\n",
       "  </tbody>\n",
       "</table>\n",
       "</div>"
      ],
      "text/plain": [
       "                             id  alpha  fit_intercept  mae.train  mae.test  \\\n",
       "0  221116-140838-4941-smug-text      0           True   0.973783  5.615792   \n",
       "1  221116-140838-5662-drab-burn      5           True   1.078108  5.240720   \n",
       "2  221116-140838-5689-wiry-clue     10           True   1.304290  4.899661   \n",
       "3  221116-140838-5702-real-rent     15           True   1.575662  4.716825   \n",
       "4  221116-140838-5709-mild-fall     20           True   1.912852  4.628257   \n",
       "5  221116-140838-5715-left-bake     25           True   2.267020  4.550531   \n",
       "6  221116-140838-5721-weak-unit     30           True   2.600822  4.517051   \n",
       "7  221116-140838-5730-idle-exam     35           True   2.916348  4.663442   \n",
       "8  221116-140838-5738-grim-sale     40           True   3.215390  4.804743   \n",
       "9  221116-140838-5745-slow-idea     45           True   3.499491  4.941329   \n",
       "\n",
       "   rmse.train  rmse.test  \n",
       "0    1.153697   7.186959  \n",
       "1    1.267344   6.813575  \n",
       "2    1.534452   6.520374  \n",
       "3    1.865973   6.298366  \n",
       "4    2.217161   6.139268  \n",
       "5    2.569086   6.035315  \n",
       "6    2.913901   5.979203  \n",
       "7    3.248451   5.964124  \n",
       "8    3.571648   5.983819  \n",
       "9    3.883356   6.032641  "
      ]
     },
     "execution_count": 11,
     "metadata": {},
     "output_type": "execute_result"
    }
   ],
   "source": [
    "df = all_experiments(\"linear_regression\")\n",
    "df"
   ]
  },
  {
   "cell_type": "code",
   "execution_count": 12,
   "metadata": {},
   "outputs": [
    {
     "data": {
      "image/png": "[encoded data removed]",
      "text/plain": [
       "<Figure size 400x300 with 1 Axes>"
      ]
     },
     "metadata": {
      "image/png": {
       "height": 294,
       "width": 382
      }
     },
     "output_type": "display_data"
    }
   ],
   "source": [
    "import matplotlib.pyplot as plt\n",
    "%config InlineBackend.figure_format = 'retina'\n",
    "\n",
    "plt.figure(figsize=(4, 3))\n",
    "plt.plot(df.alpha, df['mae.test'], \"--ko\")\n",
    "plt.xlabel(\"alpha\")\n",
    "plt.ylabel(\"MAE\", rotation=0);"
   ]
  },
  {
   "cell_type": "markdown",
   "metadata": {},
   "source": [
    "Artefacts saved during an experiment can be accessed using `.artefacts`: a mapping of filename to actual path."
   ]
  },
  {
   "cell_type": "code",
   "execution_count": 13,
   "metadata": {},
   "outputs": [
    {
     "data": {
      "text/plain": [
       "{'model.pkl': PosixPath('linear_regression/221116-140838-4941-smug-text/model.pkl')}"
      ]
     },
     "execution_count": 13,
     "metadata": {},
     "output_type": "execute_result"
    }
   ],
   "source": [
    "from digital_experiments.core import get_artefacts\n",
    "get_artefacts(\"linear_regression\", df.id[0])"
   ]
  },
  {
   "cell_type": "markdown",
   "metadata": {},
   "source": [
    "### Template Matching\n",
    "\n",
    "When accessing experiments, we can filter them based on their config and results:"
   ]
  },
  {
   "cell_type": "code",
   "execution_count": 14,
   "metadata": {},
   "outputs": [
    {
     "data": {
      "text/html": [
       "<div>\n",
       "<style scoped>\n",
       "    .dataframe tbody tr th:only-of-type {\n",
       "        vertical-align: middle;\n",
       "    }\n",
       "\n",
       "    .dataframe tbody tr th {\n",
       "        vertical-align: top;\n",
       "    }\n",
       "\n",
       "    .dataframe thead th {\n",
       "        text-align: right;\n",
       "    }\n",
       "</style>\n",
       "<table border=\"1\" class=\"dataframe\">\n",
       "  <thead>\n",
       "    <tr style=\"text-align: right;\">\n",
       "      <th></th>\n",
       "      <th>id</th>\n",
       "      <th>alpha</th>\n",
       "      <th>fit_intercept</th>\n",
       "      <th>mae.train</th>\n",
       "      <th>mae.test</th>\n",
       "      <th>rmse.train</th>\n",
       "      <th>rmse.test</th>\n",
       "    </tr>\n",
       "  </thead>\n",
       "  <tbody>\n",
       "    <tr>\n",
       "      <th>0</th>\n",
       "      <td>221116-140838-4941-smug-text</td>\n",
       "      <td>0</td>\n",
       "      <td>True</td>\n",
       "      <td>0.973783</td>\n",
       "      <td>5.615792</td>\n",
       "      <td>1.153697</td>\n",
       "      <td>7.186959</td>\n",
       "    </tr>\n",
       "  </tbody>\n",
       "</table>\n",
       "</div>"
      ],
      "text/plain": [
       "                             id  alpha  fit_intercept  mae.train  mae.test  \\\n",
       "0  221116-140838-4941-smug-text      0           True   0.973783  5.615792   \n",
       "\n",
       "   rmse.train  rmse.test  \n",
       "0    1.153697   7.186959  "
      ]
     },
     "execution_count": 14,
     "metadata": {},
     "output_type": "execute_result"
    }
   ],
   "source": [
    "from digital_experiments import experiments_matching\n",
    "\n",
    "# exact matches\n",
    "experiments_matching(\"linear_regression\", alpha=0)"
   ]
  },
  {
   "cell_type": "code",
   "execution_count": 15,
   "metadata": {},
   "outputs": [
    {
     "data": {
      "text/html": [
       "<div>\n",
       "<style scoped>\n",
       "    .dataframe tbody tr th:only-of-type {\n",
       "        vertical-align: middle;\n",
       "    }\n",
       "\n",
       "    .dataframe tbody tr th {\n",
       "        vertical-align: top;\n",
       "    }\n",
       "\n",
       "    .dataframe thead th {\n",
       "        text-align: right;\n",
       "    }\n",
       "</style>\n",
       "<table border=\"1\" class=\"dataframe\">\n",
       "  <thead>\n",
       "    <tr style=\"text-align: right;\">\n",
       "      <th></th>\n",
       "      <th>id</th>\n",
       "      <th>alpha</th>\n",
       "      <th>fit_intercept</th>\n",
       "      <th>mae.train</th>\n",
       "      <th>mae.test</th>\n",
       "      <th>rmse.train</th>\n",
       "      <th>rmse.test</th>\n",
       "    </tr>\n",
       "  </thead>\n",
       "  <tbody>\n",
       "    <tr>\n",
       "      <th>0</th>\n",
       "      <td>221116-140838-4941-smug-text</td>\n",
       "      <td>0</td>\n",
       "      <td>True</td>\n",
       "      <td>0.973783</td>\n",
       "      <td>5.615792</td>\n",
       "      <td>1.153697</td>\n",
       "      <td>7.186959</td>\n",
       "    </tr>\n",
       "    <tr>\n",
       "      <th>1</th>\n",
       "      <td>221116-140838-5662-drab-burn</td>\n",
       "      <td>5</td>\n",
       "      <td>True</td>\n",
       "      <td>1.078108</td>\n",
       "      <td>5.240720</td>\n",
       "      <td>1.267344</td>\n",
       "      <td>6.813575</td>\n",
       "    </tr>\n",
       "    <tr>\n",
       "      <th>2</th>\n",
       "      <td>221116-140838-5689-wiry-clue</td>\n",
       "      <td>10</td>\n",
       "      <td>True</td>\n",
       "      <td>1.304290</td>\n",
       "      <td>4.899661</td>\n",
       "      <td>1.534452</td>\n",
       "      <td>6.520374</td>\n",
       "    </tr>\n",
       "    <tr>\n",
       "      <th>3</th>\n",
       "      <td>221116-140838-5702-real-rent</td>\n",
       "      <td>15</td>\n",
       "      <td>True</td>\n",
       "      <td>1.575662</td>\n",
       "      <td>4.716825</td>\n",
       "      <td>1.865973</td>\n",
       "      <td>6.298366</td>\n",
       "    </tr>\n",
       "  </tbody>\n",
       "</table>\n",
       "</div>"
      ],
      "text/plain": [
       "                             id  alpha  fit_intercept  mae.train  mae.test  \\\n",
       "0  221116-140838-4941-smug-text      0           True   0.973783  5.615792   \n",
       "1  221116-140838-5662-drab-burn      5           True   1.078108  5.240720   \n",
       "2  221116-140838-5689-wiry-clue     10           True   1.304290  4.899661   \n",
       "3  221116-140838-5702-real-rent     15           True   1.575662  4.716825   \n",
       "\n",
       "   rmse.train  rmse.test  \n",
       "0    1.153697   7.186959  \n",
       "1    1.267344   6.813575  \n",
       "2    1.534452   6.520374  \n",
       "3    1.865973   6.298366  "
      ]
     },
     "execution_count": 15,
     "metadata": {},
     "output_type": "execute_result"
    }
   ],
   "source": [
    "# function matches\n",
    "experiments_matching(\"linear_regression\", alpha=lambda x: x < 20)"
   ]
  },
  {
   "cell_type": "code",
   "execution_count": 16,
   "metadata": {},
   "outputs": [
    {
     "data": {
      "text/html": [
       "<div>\n",
       "<style scoped>\n",
       "    .dataframe tbody tr th:only-of-type {\n",
       "        vertical-align: middle;\n",
       "    }\n",
       "\n",
       "    .dataframe tbody tr th {\n",
       "        vertical-align: top;\n",
       "    }\n",
       "\n",
       "    .dataframe thead th {\n",
       "        text-align: right;\n",
       "    }\n",
       "</style>\n",
       "<table border=\"1\" class=\"dataframe\">\n",
       "  <thead>\n",
       "    <tr style=\"text-align: right;\">\n",
       "      <th></th>\n",
       "      <th>id</th>\n",
       "      <th>alpha</th>\n",
       "      <th>fit_intercept</th>\n",
       "      <th>mae.train</th>\n",
       "      <th>mae.test</th>\n",
       "      <th>rmse.train</th>\n",
       "      <th>rmse.test</th>\n",
       "    </tr>\n",
       "  </thead>\n",
       "  <tbody>\n",
       "    <tr>\n",
       "      <th>4</th>\n",
       "      <td>221116-140838-5709-mild-fall</td>\n",
       "      <td>20</td>\n",
       "      <td>True</td>\n",
       "      <td>1.912852</td>\n",
       "      <td>4.628257</td>\n",
       "      <td>2.217161</td>\n",
       "      <td>6.139268</td>\n",
       "    </tr>\n",
       "    <tr>\n",
       "      <th>5</th>\n",
       "      <td>221116-140838-5715-left-bake</td>\n",
       "      <td>25</td>\n",
       "      <td>True</td>\n",
       "      <td>2.267020</td>\n",
       "      <td>4.550531</td>\n",
       "      <td>2.569086</td>\n",
       "      <td>6.035315</td>\n",
       "    </tr>\n",
       "    <tr>\n",
       "      <th>6</th>\n",
       "      <td>221116-140838-5721-weak-unit</td>\n",
       "      <td>30</td>\n",
       "      <td>True</td>\n",
       "      <td>2.600822</td>\n",
       "      <td>4.517051</td>\n",
       "      <td>2.913901</td>\n",
       "      <td>5.979203</td>\n",
       "    </tr>\n",
       "    <tr>\n",
       "      <th>7</th>\n",
       "      <td>221116-140838-5730-idle-exam</td>\n",
       "      <td>35</td>\n",
       "      <td>True</td>\n",
       "      <td>2.916348</td>\n",
       "      <td>4.663442</td>\n",
       "      <td>3.248451</td>\n",
       "      <td>5.964124</td>\n",
       "    </tr>\n",
       "  </tbody>\n",
       "</table>\n",
       "</div>"
      ],
      "text/plain": [
       "                             id  alpha  fit_intercept  mae.train  mae.test  \\\n",
       "4  221116-140838-5709-mild-fall     20           True   1.912852  4.628257   \n",
       "5  221116-140838-5715-left-bake     25           True   2.267020  4.550531   \n",
       "6  221116-140838-5721-weak-unit     30           True   2.600822  4.517051   \n",
       "7  221116-140838-5730-idle-exam     35           True   2.916348  4.663442   \n",
       "\n",
       "   rmse.train  rmse.test  \n",
       "4    2.217161   6.139268  \n",
       "5    2.569086   6.035315  \n",
       "6    2.913901   5.979203  \n",
       "7    3.248451   5.964124  "
      ]
     },
     "execution_count": 16,
     "metadata": {},
     "output_type": "execute_result"
    }
   ],
   "source": [
    "# nested filtering:\n",
    "\n",
    "template = {\n",
    "    'mae': {\"test\": lambda x: x < 4.7}\n",
    "}\n",
    "experiments_matching(\"linear_regression\", template)"
   ]
  },
  {
   "cell_type": "markdown",
   "metadata": {},
   "source": [
    "## Versions\n",
    "\n",
    "`digital_experiments` also keeps track of the versions of the code used to run an experiment.\n",
    "If the code of the experiment changes, a new version is created in the file system (i.e. old experiments are not overwritten). Reverting the code back to an older version will continue writing to the correct folder."
   ]
  },
  {
   "cell_type": "code",
   "execution_count": 17,
   "metadata": {},
   "outputs": [
    {
     "data": {
      "text/plain": [
       "3"
      ]
     },
     "execution_count": 17,
     "metadata": {},
     "output_type": "execute_result"
    }
   ],
   "source": [
    "@experiment\n",
    "def my_experiment(a, b=2):\n",
    "    return a + b\n",
    "\n",
    "my_experiment(1)"
   ]
  },
  {
   "cell_type": "code",
   "execution_count": 18,
   "metadata": {},
   "outputs": [
    {
     "name": "stdout",
     "output_type": "stream",
     "text": [
      "├── v-1\n",
      "│   ├── .backend\n",
      "│   ├── 221116-140837-4975-numb-shoe\n",
      "│   │   ├── config.json\n",
      "│   │   ├── metadata.json\n",
      "│   │   └── results.json\n",
      "│   └── code.py\n",
      "└── v-2\n",
      "    ├── .backend\n",
      "    ├── 221116-140839-5969-dark-baby\n",
      "    │   ├── config.json\n",
      "    │   ├── metadata.json\n",
      "    │   └── results.json\n",
      "    └── code.py\n"
     ]
    }
   ],
   "source": [
    "tree(\"my_experiment\")"
   ]
  },
  {
   "cell_type": "code",
   "execution_count": 19,
   "metadata": {},
   "outputs": [
    {
     "name": "stdout",
     "output_type": "stream",
     "text": [
      "@experiment\n",
      "def my_experiment(a, b, power=2):\n",
      "    return (a - b) ** power + a\n",
      "@experiment\n",
      "def my_experiment(a, b=2):\n",
      "    return a + b\n"
     ]
    }
   ],
   "source": [
    "!cat my_experiment/*/code.py"
   ]
  },
  {
   "cell_type": "markdown",
   "metadata": {},
   "source": [
    "## Backends\n",
    "\n",
    "`digital_experiments` can be used with any backend that implements the `Backend` interface.\n",
    "`json` and `csv` backends are provided out of the box:"
   ]
  },
  {
   "cell_type": "code",
   "execution_count": 20,
   "metadata": {},
   "outputs": [
    {
     "data": {
      "text/plain": [
       "3"
      ]
     },
     "execution_count": 20,
     "metadata": {},
     "output_type": "execute_result"
    }
   ],
   "source": [
    "@experiment(backend=\"csv\")\n",
    "def my_experiment(a, b=2):\n",
    "    return a + b\n",
    "\n",
    "my_experiment(1)"
   ]
  },
  {
   "cell_type": "code",
   "execution_count": 21,
   "metadata": {},
   "outputs": [
    {
     "name": "stdout",
     "output_type": "stream",
     "text": [
      "├── v-1\n",
      "│   ├── .backend\n",
      "│   ├── 221116-140837-4975-numb-shoe\n",
      "│   │   ├── config.json\n",
      "│   │   ├── metadata.json\n",
      "│   │   └── results.json\n",
      "│   └── code.py\n",
      "├── v-2\n",
      "│   ├── .backend\n",
      "│   ├── 221116-140839-5969-dark-baby\n",
      "│   │   ├── config.json\n",
      "│   │   ├── metadata.json\n",
      "│   │   └── results.json\n",
      "│   └── code.py\n",
      "└── v-3\n",
      "    ├── .backend\n",
      "    ├── code.py\n",
      "    ├── headers.map\n",
      "    └── results.csv\n"
     ]
    }
   ],
   "source": [
    "tree(\"my_experiment\")"
   ]
  },
  {
   "cell_type": "code",
   "execution_count": 22,
   "metadata": {},
   "outputs": [
    {
     "name": "stdout",
     "output_type": "stream",
     "text": [
      "id,a,b,result,_time.start,_time.end,_context\n",
      "221116-140840-0678-that-dust,1,2,3,1668607720.068085,1668607720.068096,manual\n"
     ]
    }
   ],
   "source": [
    "!cat my_experiment/v-3/results.csv"
   ]
  }
 ],
 "metadata": {
  "kernelspec": {
   "display_name": "Python 3.8.13 ('de')",
   "language": "python",
   "name": "python3"
  },
  "language_info": {
   "codemirror_mode": {
    "name": "ipython",
    "version": 3
   },
   "file_extension": ".py",
   "mimetype": "text/x-python",
   "name": "python",
   "nbconvert_exporter": "python",
   "pygments_lexer": "ipython3",
   "version": "3.8.13"
  },
  "orig_nbformat": 4,
  "vscode": {
   "interpreter": {
    "hash": "4b0196ba1f6eaea99fb6124196ce1a2fc1a2bd97909ab6515600b0f46f71de54"
   }
  }
 },
 "nbformat": 4,
 "nbformat_minor": 2
}
