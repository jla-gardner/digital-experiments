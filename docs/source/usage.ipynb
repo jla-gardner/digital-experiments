{
 "cells": [
  {
   "cell_type": "code",
   "execution_count": 8,
   "metadata": {
    "nbsphinx": "hidden"
   },
   "outputs": [],
   "source": [
    "!rm -rf ./experiments\n",
    "%config InlineBackend.figure_format = 'retina'"
   ]
  },
  {
   "cell_type": "markdown",
   "metadata": {},
   "source": [
    "# Usage\n",
    "\n",
    "<div align=\"center\">\n",
    "    <img src=\"logo.svg\" style=\"width: min(100%, 450px)\">\n",
    "</div>\n",
    "\n",
    "`digital-experiments` works straight out of the box:"
   ]
  },
  {
   "cell_type": "code",
   "execution_count": 1,
   "metadata": {},
   "outputs": [
    {
     "data": {
      "text/plain": [
       "[0, 1, 4, 9, 16]"
      ]
     },
     "execution_count": 1,
     "metadata": {},
     "output_type": "execute_result"
    }
   ],
   "source": [
    "from digital_experiments import experiment\n",
    "\n",
    "@experiment\n",
    "def square(x):\n",
    "    return x * x\n",
    "\n",
    "[square(i) for i in range(5)]"
   ]
  },
  {
   "cell_type": "markdown",
   "metadata": {},
   "source": [
    "## Observations"
   ]
  },
  {
   "cell_type": "code",
   "execution_count": 2,
   "metadata": {},
   "outputs": [
    {
     "data": {
      "text/plain": [
       "[Observation(2023-12-06_16-09-59_296146, {'x': 0} → 0),\n",
       " Observation(2023-12-06_16-09-59_296393, {'x': 1} → 1),\n",
       " Observation(2023-12-06_16-09-59_296550, {'x': 2} → 4),\n",
       " Observation(2023-12-06_16-09-59_296678, {'x': 3} → 9),\n",
       " Observation(2023-12-06_16-09-59_296801, {'x': 4} → 16)]"
      ]
     },
     "execution_count": 2,
     "metadata": {},
     "output_type": "execute_result"
    }
   ],
   "source": [
    "square.observations()"
   ]
  },
  {
   "cell_type": "markdown",
   "metadata": {},
   "source": [
    "Each [Observation](core-api.rst#digital_experiments.core.Observation) object is a light wrapper around:\n",
    "\n",
    "- a unique identifier (implemented as a timestamped string)\n",
    "- the exact configuration (args, kwargs and defaults) used to run the experiment\n",
    "- the result of the experiment (the return value of the function)\n",
    "- a dictionary of metadata that internal and user-defined [callback hooks](callbacks-api.rst) can use to store other relevant information"
   ]
  },
  {
   "cell_type": "code",
   "execution_count": 3,
   "metadata": {},
   "outputs": [
    {
     "name": "stdout",
     "output_type": "stream",
     "text": [
      "{\n",
      "    \"id\": \"2023-12-06_16-09-59_296146\",\n",
      "    \"config\": {\n",
      "        \"x\": 0\n",
      "    },\n",
      "    \"result\": 0,\n",
      "    \"metadata\": {\n",
      "        \"timing\": {\n",
      "            \"total\": {\n",
      "                \"start\": \"2023-12-06 16:09:59\",\n",
      "                \"end\": \"2023-12-06 16:09:59\",\n",
      "                \"duration\": 4e-06\n",
      "            }\n",
      "        },\n",
      "        \"code\": \"@experiment\\ndef square(x):\\n    return x * x\\n\"\n",
      "    }\n",
      "}\n"
     ]
    }
   ],
   "source": [
    "import json\n",
    "\n",
    "_dict = square.observations()[0]._asdict()\n",
    "print(json.dumps(_dict, indent=4))"
   ]
  },
  {
   "cell_type": "markdown",
   "metadata": {},
   "source": [
    "By default, `digital-experiments` times how long the experiment took to run, and the exact code that was run. The latter is particularly useful when we're rapdily iterating on an experiment's code, and want to be able to reproduce the results of a previous run. Extra timing information can be added to this metadata by using the [time_block](core-api.rst#digital_experiments.time_block) context.\n",
    "\n",
    "## Backends\n",
    "\n",
    "By default, `digital-experiments` stores each observation in its own `.pkl` file located at `./experiments/<experiment_name>/<id>.pkl`:"
   ]
  },
  {
   "cell_type": "code",
   "execution_count": 4,
   "metadata": {},
   "outputs": [
    {
     "name": "stdout",
     "output_type": "stream",
     "text": [
      "2023-12-06_16-09-59_296146.pkl 2023-12-06_16-09-59_296678.pkl\n",
      "2023-12-06_16-09-59_296393.pkl 2023-12-06_16-09-59_296801.pkl\n",
      "2023-12-06_16-09-59_296550.pkl\n"
     ]
    }
   ],
   "source": [
    "!ls ./experiments/square"
   ]
  },
  {
   "cell_type": "markdown",
   "metadata": {},
   "source": [
    "Other backends are available (see the [complete list here](backends-api.rst)), or you can [implement your own](backends-api.rst).\n",
    "\n",
    "You can also specify the root directory for a given experiment by passing the `root` argument to the [@experiment](core-api.rst#digital_experiments.experiment) decorator, or by setting the `DE_ROOT` environment variable:"
   ]
  },
  {
   "cell_type": "code",
   "execution_count": 5,
   "metadata": {},
   "outputs": [],
   "source": [
    "from pathlib import Path\n",
    "\n",
    "@experiment(root=Path(\"some/other/path\"))\n",
    "def cube(x):\n",
    "    return x * x * x"
   ]
  },
  {
   "cell_type": "markdown",
   "metadata": {},
   "source": [
    "## Artefacts\n",
    "\n",
    "`digital-experiments` assigns and provides a unique directory on disk per run of an experiment. This can be accessed within an experiment using the [current_dir](core-api.rst#digital_experiments.current_dir) function. Any files saved to this directory during the experiment are available _post hoc_ via the [artefacts](core-api.rst#digital_experiments.core.Experiment.artefacts) function."
   ]
  },
  {
   "cell_type": "code",
   "execution_count": 6,
   "metadata": {},
   "outputs": [
    {
     "data": {
      "text/plain": [
       "[PosixPath('experiments/saving_experiment/storage/2023-12-06_16-09-59_448265/test.txt')]"
      ]
     },
     "execution_count": 6,
     "metadata": {},
     "output_type": "execute_result"
    }
   ],
   "source": [
    "from digital_experiments import current_dir\n",
    "\n",
    "@experiment\n",
    "def saving_experiment():\n",
    "    (current_dir() / 'test.txt').write_text('hello world')\n",
    "\n",
    "saving_experiment()\n",
    "id = saving_experiment.observations()[0].id\n",
    "saving_experiment.artefacts(id)"
   ]
  }
 ],
 "metadata": {
  "kernelspec": {
   "display_name": "de-dev",
   "language": "python",
   "name": "python3"
  },
  "language_info": {
   "codemirror_mode": {
    "name": "ipython",
    "version": 3
   },
   "file_extension": ".py",
   "mimetype": "text/x-python",
   "name": "python",
   "nbconvert_exporter": "python",
   "pygments_lexer": "ipython3",
   "version": "3.8.18"
  }
 },
 "nbformat": 4,
 "nbformat_minor": 2
}
