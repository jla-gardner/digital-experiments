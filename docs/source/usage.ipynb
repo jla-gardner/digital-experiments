{
 "cells": [
  {
   "cell_type": "code",
   "execution_count": 1,
   "metadata": {
    "nbsphinx": "hidden"
   },
   "outputs": [],
   "source": [
    "!rm -rf ./experiments\n",
    "!rm -rf ./some/other/path\n",
    "%config InlineBackend.figure_format = 'retina'"
   ]
  },
  {
   "cell_type": "markdown",
   "metadata": {},
   "source": [
    "# Basic Usage\n",
    "\n",
    "\n",
    "`digital-experiments` works straight out of the box:"
   ]
  },
  {
   "cell_type": "code",
   "execution_count": 1,
   "metadata": {},
   "outputs": [
    {
     "data": {
      "text/plain": [
       "[0, 1, 4, 9, 16]"
      ]
     },
     "execution_count": 1,
     "metadata": {},
     "output_type": "execute_result"
    }
   ],
   "source": [
    "from digital_experiments import experiment\n",
    "\n",
    "@experiment\n",
    "def square(x):\n",
    "    return x * x\n",
    "\n",
    "[square(i) for i in range(5)]"
   ]
  },
  {
   "cell_type": "markdown",
   "metadata": {},
   "source": [
    "Get all the [Observations](core-api.rst#digital_experiments.core.Observation) from the experiment (these are persisted over multiple python sessions):"
   ]
  },
  {
   "cell_type": "code",
   "execution_count": 2,
   "metadata": {},
   "outputs": [
    {
     "data": {
      "text/plain": [
       "[Observation(2024-02-04_08-20-11_161787, {'x': 0} → 0),\n",
       " Observation(2024-02-04_08-20-11_528886, {'x': 1} → 1),\n",
       " Observation(2024-02-04_08-20-11_539600, {'x': 2} → 4),\n",
       " Observation(2024-02-04_08-20-11_549778, {'x': 3} → 9),\n",
       " Observation(2024-02-04_08-20-11_559902, {'x': 4} → 16)]"
      ]
     },
     "execution_count": 2,
     "metadata": {},
     "output_type": "execute_result"
    }
   ],
   "source": [
    "square.observations()"
   ]
  },
  {
   "cell_type": "markdown",
   "metadata": {},
   "source": [
    "If you have `pandas` installed, you can also use the [to_dataframe](core-api.rst#digital_experiments.core.Experiment.to_dataframe) method:"
   ]
  },
  {
   "cell_type": "code",
   "execution_count": 3,
   "metadata": {},
   "outputs": [
    {
     "data": {
      "text/html": [
       "<div>\n",
       "<style scoped>\n",
       "    .dataframe tbody tr th:only-of-type {\n",
       "        vertical-align: middle;\n",
       "    }\n",
       "\n",
       "    .dataframe tbody tr th {\n",
       "        vertical-align: top;\n",
       "    }\n",
       "\n",
       "    .dataframe thead th {\n",
       "        text-align: right;\n",
       "    }\n",
       "</style>\n",
       "<table border=\"1\" class=\"dataframe\">\n",
       "  <thead>\n",
       "    <tr style=\"text-align: right;\">\n",
       "      <th></th>\n",
       "      <th>id</th>\n",
       "      <th>result</th>\n",
       "      <th>config.x</th>\n",
       "    </tr>\n",
       "  </thead>\n",
       "  <tbody>\n",
       "    <tr>\n",
       "      <th>0</th>\n",
       "      <td>2024-02-04_08-20-11_161787</td>\n",
       "      <td>0</td>\n",
       "      <td>0</td>\n",
       "    </tr>\n",
       "    <tr>\n",
       "      <th>1</th>\n",
       "      <td>2024-02-04_08-20-11_528886</td>\n",
       "      <td>1</td>\n",
       "      <td>1</td>\n",
       "    </tr>\n",
       "    <tr>\n",
       "      <th>2</th>\n",
       "      <td>2024-02-04_08-20-11_539600</td>\n",
       "      <td>4</td>\n",
       "      <td>2</td>\n",
       "    </tr>\n",
       "    <tr>\n",
       "      <th>3</th>\n",
       "      <td>2024-02-04_08-20-11_549778</td>\n",
       "      <td>9</td>\n",
       "      <td>3</td>\n",
       "    </tr>\n",
       "    <tr>\n",
       "      <th>4</th>\n",
       "      <td>2024-02-04_08-20-11_559902</td>\n",
       "      <td>16</td>\n",
       "      <td>4</td>\n",
       "    </tr>\n",
       "  </tbody>\n",
       "</table>\n",
       "</div>"
      ],
      "text/plain": [
       "                           id  result  config.x\n",
       "0  2024-02-04_08-20-11_161787       0         0\n",
       "1  2024-02-04_08-20-11_528886       1         1\n",
       "2  2024-02-04_08-20-11_539600       4         2\n",
       "3  2024-02-04_08-20-11_549778       9         3\n",
       "4  2024-02-04_08-20-11_559902      16         4"
      ]
     },
     "execution_count": 3,
     "metadata": {},
     "output_type": "execute_result"
    }
   ],
   "source": [
    "square.to_dataframe()"
   ]
  },
  {
   "cell_type": "markdown",
   "metadata": {},
   "source": [
    "## Observations\n",
    "\n",
    "Each [Observation](core-api.rst#digital_experiments.core.Observation) object is a light-weight wrapper around:\n",
    "\n",
    "- a unique identifier (implemented as a timestamped string)\n",
    "- the exact configuration (args, kwargs and defaults) used to run the experiment\n",
    "- the result of the experiment (the return value of the function)\n",
    "- a dictionary of metadata that internal and user-defined [callback hooks](callbacks-api.rst) can use to store other relevant information"
   ]
  },
  {
   "cell_type": "code",
   "execution_count": 4,
   "metadata": {},
   "outputs": [
    {
     "name": "stdout",
     "output_type": "stream",
     "text": [
      "{\n",
      "    \"id\": \"2024-02-04_08-20-11_161787\",\n",
      "    \"config\": {\n",
      "        \"x\": 0\n",
      "    },\n",
      "    \"result\": 0,\n",
      "    \"metadata\": {\n",
      "        \"system\": {\n",
      "            \"platform\": \"macOS-14.2.1-arm64-arm-64bit\",\n",
      "            \"machine\": \"arm64\",\n",
      "            \"processor\": \"arm\",\n",
      "            \"system\": \"Darwin\",\n",
      "            \"python_version\": \"3.8.18\",\n",
      "            \"pwd\": \"/Users/john/projects/digital_experiments/docs/source\"\n",
      "        },\n",
      "        \"pip_freeze\": \"alabaster==0.7.13\\nanyio==4.2.0\\nappnope==0.1.3\\nargon2-cffi==23.1.0\\nargon2-cffi-bindings==21.2.0\\narrow==1.3.0\\nasttokens==2.4.1\\nasync-lru==2.0.4\\nattrs==23.2.0\\nBabel==2.14.0\\nbackcall==0.2.0\\nbeautifulsoup4==4.12.3\\nbleach==6.1.0\\nbumpver==2023.1129\\ncertifi==2023.11.17\\ncffi==1.16.0\\ncharset-normalizer==3.3.2\\nclick==8.1.7\\ncolorama==0.4.6\\ncomm==0.2.1\\ncoverage==7.4.0\\ndebugpy==1.8.0\\ndecorator==5.1.1\\ndefusedxml==0.7.1\\n-e git+https://github.com/jla-gardner/digital-experiments.git@d15279995c45c78c703e08223580fc75995e2ea1#egg=digital_experiments\\ndocutils==0.20.1\\nexceptiongroup==1.2.0\\nexecuting==2.0.1\\nfastjsonschema==2.19.1\\nfqdn==1.5.1\\nfuro==2023.9.10\\nidna==3.6\\nimagesize==1.4.1\\nimportlib-metadata==7.0.1\\nimportlib-resources==6.1.1\\niniconfig==2.0.0\\nipykernel==6.29.0\\nipython==8.12.3\\nisoduration==20.11.0\\njedi==0.19.1\\nJinja2==3.1.3\\njson5==0.9.14\\njsonpointer==2.4\\njsonschema==4.21.1\\njsonschema-specifications==2023.12.1\\njupyter-events==0.9.0\\njupyter-lsp==2.2.2\\njupyter_client==8.6.0\\njupyter_core==5.7.1\\njupyter_server==2.12.5\\njupyter_server_terminals==0.5.1\\njupyterlab==4.0.11\\njupyterlab_pygments==0.3.0\\njupyterlab_server==2.25.2\\nlexid==2021.1006\\nlivereload==2.6.3\\nlooseversion==1.3.0\\nMarkupSafe==2.1.4\\nmatplotlib-inline==0.1.6\\nmistune==3.0.2\\nnbclient==0.9.0\\nnbconvert==7.14.2\\nnbformat==5.9.2\\nnbsphinx==0.9.3\\nnest-asyncio==1.5.9\\nnotebook==7.0.7\\nnotebook_shim==0.2.3\\nnumpy==1.24.4\\noverrides==7.6.0\\npackaging==23.2\\npandas==2.0.3\\npandocfilters==1.5.1\\nparso==0.8.3\\npexpect==4.9.0\\npickleshare==0.7.5\\npkgutil_resolve_name==1.3.10\\nplatformdirs==4.1.0\\npluggy==1.3.0\\nprometheus-client==0.19.0\\nprompt-toolkit==3.0.43\\npsutil==5.9.8\\nptyprocess==0.7.0\\npure-eval==0.2.2\\npycparser==2.21\\nPygments==2.17.2\\npytest==7.4.4\\npytest-cov==4.1.0\\npython-dateutil==2.8.2\\npython-json-logger==2.0.7\\npytz==2023.3.post1\\nPyYAML==6.0.1\\npyzmq==25.1.2\\nreferencing==0.32.1\\nrequests==2.31.0\\nrfc3339-validator==0.1.4\\nrfc3986-validator==0.1.1\\nrpds-py==0.17.1\\nruff==0.1.14\\nSend2Trash==1.8.2\\nsix==1.16.0\\nsniffio==1.3.0\\nsnowballstemmer==2.2.0\\nsoupsieve==2.5\\nSphinx==7.1.2\\nsphinx-autobuild==2021.3.14\\nsphinx-basic-ng==1.0.0b2\\nsphinx-copybutton==0.5.2\\nsphinxcontrib-applehelp==1.0.4\\nsphinxcontrib-devhelp==1.0.2\\nsphinxcontrib-htmlhelp==2.0.1\\nsphinxcontrib-jsmath==1.0.1\\nsphinxcontrib-qthelp==1.0.3\\nsphinxcontrib-serializinghtml==1.1.5\\nsphinxext-opengraph==0.9.1\\nstack-data==0.6.3\\nterminado==0.18.0\\ntinycss2==1.2.1\\ntoml==0.10.2\\ntomli==2.0.1\\ntornado==6.4\\ntraitlets==5.14.1\\ntypes-python-dateutil==2.8.19.20240106\\ntyping_extensions==4.9.0\\ntzdata==2023.4\\nuri-template==1.3.0\\nurllib3==2.1.0\\nwcwidth==0.2.13\\nwebcolors==1.13\\nwebencodings==0.5.1\\nwebsocket-client==1.7.0\\nzipp==3.17.0\",\n",
      "        \"git\": {\n",
      "            \"branch\": \"master\",\n",
      "            \"commit\": \"d15279995c45c78c703e08223580fc75995e2ea1\",\n",
      "            \"remote\": \"https://github.com/jla-gardner/digital-experiments.git\"\n",
      "        },\n",
      "        \"timing\": {\n",
      "            \"total\": {\n",
      "                \"start\": \"2024-02-04 08:20:11\",\n",
      "                \"end\": \"2024-02-04 08:20:11\",\n",
      "                \"duration\": 0.366411\n",
      "            }\n",
      "        },\n",
      "        \"code\": \"@experiment\\ndef square(x):\\n    return x * x\\n\"\n",
      "    }\n",
      "}\n"
     ]
    }
   ],
   "source": [
    "import json\n",
    "\n",
    "_dict = square.observations()[0]._asdict()\n",
    "print(json.dumps(_dict, indent=4))"
   ]
  },
  {
   "cell_type": "markdown",
   "metadata": {},
   "source": [
    "By default, `digital-experiments` times how long the experiment took, and the exact code that was run. The latter is particularly useful when we're rapdily iterating on an experiment's code, and want to be able to reproduce the results of a previous run. Other useful information is also stored, such as the current `git commit`, details of the python environment and information about the machine the experiment was run on. This ensures a high level of reproducibility and traceability.\n",
    "\n",
    "Extra timing information can be added to this metadata by using the [time_block](core-api.rst#digital_experiments.time_block) context.\n",
    "\n",
    "## Backends\n",
    "\n",
    "By default, `digital-experiments` stores each observation in its own `.pkl` file located at `./experiments/<experiment_name>/<id>.pkl`:"
   ]
  },
  {
   "cell_type": "code",
   "execution_count": 5,
   "metadata": {},
   "outputs": [
    {
     "name": "stdout",
     "output_type": "stream",
     "text": [
      "2024-02-04_08-20-11_161787.pkl 2024-02-04_08-20-11_549778.pkl\n",
      "2024-02-04_08-20-11_528886.pkl 2024-02-04_08-20-11_559902.pkl\n",
      "2024-02-04_08-20-11_539600.pkl\n"
     ]
    }
   ],
   "source": [
    "!ls ./experiments/square"
   ]
  },
  {
   "cell_type": "markdown",
   "metadata": {},
   "source": [
    "Other backends are available (see the [complete list here](backends-api.rst)), or you can [implement your own](backends-api.rst).\n",
    "\n",
    "You can also specify the root directory for a given experiment by passing the `root` argument to the [@experiment](core-api.rst#digital_experiments.experiment) decorator, or by setting the `DE_ROOT` environment variable:"
   ]
  },
  {
   "cell_type": "code",
   "execution_count": 6,
   "metadata": {},
   "outputs": [
    {
     "name": "stdout",
     "output_type": "stream",
     "text": [
      "2024-02-04_08-20-13_600755.pkl\n"
     ]
    }
   ],
   "source": [
    "from pathlib import Path\n",
    "\n",
    "@experiment(root=Path(\"some/other/path\"))\n",
    "def cube(x):\n",
    "    return x ** 3\n",
    "\n",
    "cube(4)\n",
    "!ls ./some/other/path"
   ]
  },
  {
   "cell_type": "markdown",
   "metadata": {},
   "source": [
    "## Artefacts\n",
    "\n",
    "`digital-experiments` assigns and provides a unique directory on disk per run of an experiment. This can be accessed within an experiment using the [current_dir](core-api.rst#digital_experiments.current_dir) function. Any files saved to this directory during the experiment are available _post hoc_ via the [artefacts](core-api.rst#digital_experiments.core.Experiment.artefacts) function."
   ]
  },
  {
   "cell_type": "code",
   "execution_count": 7,
   "metadata": {},
   "outputs": [
    {
     "data": {
      "text/plain": [
       "[PosixPath('experiments/saving_experiment/storage/2024-02-04_08-20-13_746886/test.txt')]"
      ]
     },
     "execution_count": 7,
     "metadata": {},
     "output_type": "execute_result"
    }
   ],
   "source": [
    "from digital_experiments import current_dir\n",
    "\n",
    "@experiment\n",
    "def saving_experiment():\n",
    "    (current_dir() / 'test.txt').write_text('hello world')\n",
    "\n",
    "saving_experiment()\n",
    "id = saving_experiment.observations()[0].id\n",
    "saving_experiment.artefacts(id)"
   ]
  }
 ],
 "metadata": {
  "kernelspec": {
   "display_name": "de-dev",
   "language": "python",
   "name": "python3"
  },
  "language_info": {
   "codemirror_mode": {
    "name": "ipython",
    "version": 3
   },
   "file_extension": ".py",
   "mimetype": "text/x-python",
   "name": "python",
   "nbconvert_exporter": "python",
   "pygments_lexer": "ipython3",
   "version": "3.8.18"
  }
 },
 "nbformat": 4,
 "nbformat_minor": 2
}
