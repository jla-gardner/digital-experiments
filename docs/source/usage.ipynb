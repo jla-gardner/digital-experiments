{
 "cells": [
  {
   "cell_type": "code",
   "execution_count": 9,
   "metadata": {
    "nbsphinx": "hidden"
   },
   "outputs": [],
   "source": [
    "!rm -rf ./experiments\n",
    "!rm -rf ./some/other/path\n",
    "%config InlineBackend.figure_format = 'retina'"
   ]
  },
  {
   "cell_type": "markdown",
   "metadata": {},
   "source": [
    "# Basic Usage\n",
    "\n",
    "<div align=\"center\">\n",
    "    <img src=\"logo.svg\" style=\"width: min(100%, 450px)\">\n",
    "</div>\n",
    "\n",
    "`digital-experiments` works straight out of the box:"
   ]
  },
  {
   "cell_type": "code",
   "execution_count": 1,
   "metadata": {},
   "outputs": [
    {
     "data": {
      "text/plain": [
       "[0, 1, 4, 9, 16]"
      ]
     },
     "execution_count": 1,
     "metadata": {},
     "output_type": "execute_result"
    }
   ],
   "source": [
    "from digital_experiments import experiment\n",
    "\n",
    "@experiment\n",
    "def square(x):\n",
    "    return x * x\n",
    "\n",
    "[square(i) for i in range(5)]"
   ]
  },
  {
   "cell_type": "markdown",
   "metadata": {},
   "source": [
    "If you have `pandas` installed, you can also use the [to_dataframe](core-api.rst#digital_experiments.core.Experiment.to_dataframe) method:"
   ]
  },
  {
   "cell_type": "code",
   "execution_count": 2,
   "metadata": {},
   "outputs": [
    {
     "data": {
      "text/html": [
       "<div>\n",
       "<style scoped>\n",
       "    .dataframe tbody tr th:only-of-type {\n",
       "        vertical-align: middle;\n",
       "    }\n",
       "\n",
       "    .dataframe tbody tr th {\n",
       "        vertical-align: top;\n",
       "    }\n",
       "\n",
       "    .dataframe thead th {\n",
       "        text-align: right;\n",
       "    }\n",
       "</style>\n",
       "<table border=\"1\" class=\"dataframe\">\n",
       "  <thead>\n",
       "    <tr style=\"text-align: right;\">\n",
       "      <th></th>\n",
       "      <th>id</th>\n",
       "      <th>result</th>\n",
       "      <th>config.x</th>\n",
       "    </tr>\n",
       "  </thead>\n",
       "  <tbody>\n",
       "    <tr>\n",
       "      <th>0</th>\n",
       "      <td>2023-12-14_15-21-10_082597</td>\n",
       "      <td>0</td>\n",
       "      <td>0</td>\n",
       "    </tr>\n",
       "    <tr>\n",
       "      <th>1</th>\n",
       "      <td>2023-12-14_15-21-10_138612</td>\n",
       "      <td>1</td>\n",
       "      <td>1</td>\n",
       "    </tr>\n",
       "    <tr>\n",
       "      <th>2</th>\n",
       "      <td>2023-12-14_15-21-10_187359</td>\n",
       "      <td>4</td>\n",
       "      <td>2</td>\n",
       "    </tr>\n",
       "    <tr>\n",
       "      <th>3</th>\n",
       "      <td>2023-12-14_15-21-10_221718</td>\n",
       "      <td>9</td>\n",
       "      <td>3</td>\n",
       "    </tr>\n",
       "    <tr>\n",
       "      <th>4</th>\n",
       "      <td>2023-12-14_15-21-10_255920</td>\n",
       "      <td>16</td>\n",
       "      <td>4</td>\n",
       "    </tr>\n",
       "  </tbody>\n",
       "</table>\n",
       "</div>"
      ],
      "text/plain": [
       "                           id  result  config.x\n",
       "0  2023-12-14_15-21-10_082597       0         0\n",
       "1  2023-12-14_15-21-10_138612       1         1\n",
       "2  2023-12-14_15-21-10_187359       4         2\n",
       "3  2023-12-14_15-21-10_221718       9         3\n",
       "4  2023-12-14_15-21-10_255920      16         4"
      ]
     },
     "execution_count": 2,
     "metadata": {},
     "output_type": "execute_result"
    }
   ],
   "source": [
    "square.to_dataframe()"
   ]
  },
  {
   "cell_type": "code",
   "execution_count": 3,
   "metadata": {},
   "outputs": [
    {
     "data": {
      "text/plain": [
       "[Observation(2023-12-14_15-21-10_082597, {'x': 0} → 0),\n",
       " Observation(2023-12-14_15-21-10_138612, {'x': 1} → 1),\n",
       " Observation(2023-12-14_15-21-10_187359, {'x': 2} → 4),\n",
       " Observation(2023-12-14_15-21-10_221718, {'x': 3} → 9),\n",
       " Observation(2023-12-14_15-21-10_255920, {'x': 4} → 16)]"
      ]
     },
     "execution_count": 3,
     "metadata": {},
     "output_type": "execute_result"
    }
   ],
   "source": [
    "square.observations()"
   ]
  },
  {
   "cell_type": "markdown",
   "metadata": {},
   "source": [
    "## Observations\n",
    "\n",
    "Each [Observation](core-api.rst#digital_experiments.core.Observation) object is a light-weight wrapper around:\n",
    "\n",
    "- a unique identifier (implemented as a timestamped string)\n",
    "- the exact configuration (args, kwargs and defaults) used to run the experiment\n",
    "- the result of the experiment (the return value of the function)\n",
    "- a dictionary of metadata that internal and user-defined [callback hooks](callbacks-api.rst) can use to store other relevant information"
   ]
  },
  {
   "cell_type": "code",
   "execution_count": 4,
   "metadata": {},
   "outputs": [
    {
     "name": "stdout",
     "output_type": "stream",
     "text": [
      "{\n",
      "    \"id\": \"2023-12-14_15-21-10_082597\",\n",
      "    \"config\": {\n",
      "        \"x\": 0\n",
      "    },\n",
      "    \"result\": 0,\n",
      "    \"metadata\": {\n",
      "        \"git\": {\n",
      "            \"branch\": \"git-metadata\",\n",
      "            \"commit\": \"9a5d7f3ab3f7082143642f9a2ee6a11466a9c418\",\n",
      "            \"remote\": \"https://github.com/jla-gardner/digital-experiments.git\"\n",
      "        },\n",
      "        \"timing\": {\n",
      "            \"total\": {\n",
      "                \"start\": \"2023-12-14 15:21:10\",\n",
      "                \"end\": \"2023-12-14 15:21:10\",\n",
      "                \"duration\": 0.054958\n",
      "            }\n",
      "        },\n",
      "        \"code\": \"@experiment\\ndef square(x):\\n    return x * x\\n\"\n",
      "    }\n",
      "}\n"
     ]
    }
   ],
   "source": [
    "import json\n",
    "\n",
    "_dict = square.observations()[0]._asdict()\n",
    "print(json.dumps(_dict, indent=4))"
   ]
  },
  {
   "cell_type": "markdown",
   "metadata": {},
   "source": [
    "By default, `digital-experiments` times how long the experiment took, and the exact code that was run. The latter is particularly useful when we're rapdily iterating on an experiment's code, and want to be able to reproduce the results of a previous run. \n",
    "\n",
    "Extra timing information can be added to this metadata by using the [time_block](core-api.rst#digital_experiments.time_block) context.\n",
    "\n",
    "## Backends\n",
    "\n",
    "By default, `digital-experiments` stores each observation in its own `.pkl` file located at `./experiments/<experiment_name>/<id>.pkl`:"
   ]
  },
  {
   "cell_type": "code",
   "execution_count": 5,
   "metadata": {},
   "outputs": [
    {
     "name": "stdout",
     "output_type": "stream",
     "text": [
      "2023-12-14_15-21-10_082597.pkl 2023-12-14_15-21-10_221718.pkl\n",
      "2023-12-14_15-21-10_138612.pkl 2023-12-14_15-21-10_255920.pkl\n",
      "2023-12-14_15-21-10_187359.pkl\n"
     ]
    }
   ],
   "source": [
    "!ls ./experiments/square"
   ]
  },
  {
   "cell_type": "markdown",
   "metadata": {},
   "source": [
    "Other backends are available (see the [complete list here](backends-api.rst)), or you can [implement your own](backends-api.rst).\n",
    "\n",
    "You can also specify the root directory for a given experiment by passing the `root` argument to the [@experiment](core-api.rst#digital_experiments.experiment) decorator, or by setting the `DE_ROOT` environment variable:"
   ]
  },
  {
   "cell_type": "code",
   "execution_count": 6,
   "metadata": {},
   "outputs": [
    {
     "name": "stdout",
     "output_type": "stream",
     "text": [
      "2023-12-14_15-21-10_724272.pkl\n"
     ]
    }
   ],
   "source": [
    "from pathlib import Path\n",
    "\n",
    "@experiment(root=Path(\"some/other/path\"))\n",
    "def cube(x):\n",
    "    return x ** 3\n",
    "\n",
    "cube(4)\n",
    "!ls ./some/other/path"
   ]
  },
  {
   "cell_type": "markdown",
   "metadata": {},
   "source": [
    "## Artefacts\n",
    "\n",
    "`digital-experiments` assigns and provides a unique directory on disk per run of an experiment. This can be accessed within an experiment using the [current_dir](core-api.rst#digital_experiments.current_dir) function. Any files saved to this directory during the experiment are available _post hoc_ via the [artefacts](core-api.rst#digital_experiments.core.Experiment.artefacts) function."
   ]
  },
  {
   "cell_type": "code",
   "execution_count": 7,
   "metadata": {},
   "outputs": [
    {
     "data": {
      "text/plain": [
       "[PosixPath('experiments/saving_experiment/storage/2023-12-14_15-21-10_892895/test.txt')]"
      ]
     },
     "execution_count": 7,
     "metadata": {},
     "output_type": "execute_result"
    }
   ],
   "source": [
    "from digital_experiments import current_dir\n",
    "\n",
    "@experiment\n",
    "def saving_experiment():\n",
    "    (current_dir() / 'test.txt').write_text('hello world')\n",
    "\n",
    "saving_experiment()\n",
    "id = saving_experiment.observations()[0].id\n",
    "saving_experiment.artefacts(id)"
   ]
  }
 ],
 "metadata": {
  "kernelspec": {
   "display_name": "de-dev",
   "language": "python",
   "name": "python3"
  },
  "language_info": {
   "codemirror_mode": {
    "name": "ipython",
    "version": 3
   },
   "file_extension": ".py",
   "mimetype": "text/x-python",
   "name": "python",
   "nbconvert_exporter": "python",
   "pygments_lexer": "ipython3",
   "version": "3.8.18"
  }
 },
 "nbformat": 4,
 "nbformat_minor": 2
}
