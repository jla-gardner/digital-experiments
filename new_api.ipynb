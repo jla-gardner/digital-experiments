{
 "cells": [
  {
   "cell_type": "code",
   "execution_count": 4,
   "metadata": {},
   "outputs": [
    {
     "data": {
      "text/plain": [
       "42"
      ]
     },
     "execution_count": 4,
     "metadata": {},
     "output_type": "execute_result"
    }
   ],
   "source": [
    "from pathlib import Path\n",
    "from typing import Any\n",
    "from digital_experiments.backends import CSVBackend\n",
    "from digital_experiments.util import get_complete_config\n",
    "\n",
    "def generate_id():\n",
    "    return \"42\"\n",
    "\n",
    "class Experiment:\n",
    "    def __init__(self, callable):\n",
    "        self.callable = callable\n",
    "        self.backend = CSVBackend()\n",
    "        self.directory = Path(\".\")\n",
    "\n",
    "    @property\n",
    "    def code(self):\n",
    "        return self.callable.__code__\n",
    "    \n",
    "    def __call__(self, *args: Any, **kwds: Any) -> Any:\n",
    "        _id = generate_id()\n",
    "        config = get_complete_config(self.callable, args, kwds)\n",
    "        result = self.callable(*args, **kwds)\n",
    "        self.backend.save(config, result)\n",
    "\n",
    "\n",
    "def experiment(callable):\n",
    "    return Experiment(callable)\n",
    "\n",
    "\n",
    "@experiment\n",
    "def my_experiment():\n",
    "    return 42\n",
    "\n",
    "my_experiment()"
   ]
  },
  {
   "cell_type": "code",
   "execution_count": 7,
   "metadata": {},
   "outputs": [],
   "source": [
    "from dataclasses import dataclass\n",
    "\n",
    "@dataclass\n",
    "class Observation:\n",
    "    id: str\n",
    "    config: dict\n",
    "    result: Any\n",
    "    metadata: dict = None\n"
   ]
  },
  {
   "cell_type": "code",
   "execution_count": 5,
   "metadata": {},
   "outputs": [
    {
     "data": {
      "text/plain": [
       "<__main__.Experiment at 0x107b33130>"
      ]
     },
     "execution_count": 5,
     "metadata": {},
     "output_type": "execute_result"
    }
   ],
   "source": [
    "my_experiment"
   ]
  },
  {
   "cell_type": "code",
   "execution_count": 6,
   "metadata": {},
   "outputs": [
    {
     "data": {
      "text/plain": [
       "<code object my_experiment at 0x124a6db30, file \"/var/folders/g9/k2dyt0ls1lzgtl01g3cm11r00000gr/T/ipykernel_3852/2820020350.py\", line 20>"
      ]
     },
     "execution_count": 6,
     "metadata": {},
     "output_type": "execute_result"
    }
   ],
   "source": [
    "my_experiment.code"
   ]
  },
  {
   "cell_type": "code",
   "execution_count": null,
   "metadata": {},
   "outputs": [],
   "source": [
    "import contextlib\n",
    "\n",
    "\n",
    "__IDS = []\n",
    "__RECORDING = False\n",
    "\n",
    "\n",
    "\n",
    "def start_new():\n",
    "    id = generate_id()\n",
    "    __IDS.append(id)\n",
    "    return id\n",
    "\n",
    "\n",
    "def finished(id):\n",
    "    assert __IDS[-1] == id\n",
    "    __IDS.pop()\n",
    "\n",
    "\n",
    "def current_id():\n",
    "    return __IDS[-1]\n",
    "\n",
    "\n",
    "@contextlib.contextmanager\n",
    "def don_record():\n",
    "    global __RECORDING\n",
    "    __RECORDING = False\n",
    "    yield\n",
    "    __RECORDING = True\n"
   ]
  },
  {
   "cell_type": "code",
   "execution_count": null,
   "metadata": {},
   "outputs": [],
   "source": [
    "def run(self, args, kwargs):\n",
    "    if not control_center.should_record:\n",
    "        return experiment(*args, **kwargs)\n",
    "    \n",
    "    id = control_center.start_new()\n",
    "    config = get_complete_config(experiment, args, kwargs)\n",
    "\n",
    "    self.metadata_collector.start()\n",
    "    metadata, result = self._run_and_collect_metadata(experiment, args, kwargs)\n",
    "    metadata = self.metadata_collector.stop()\n",
    "\n",
    "    observation = Observation(id, config, result, metadata)\n",
    "    \n",
    "    control_center.finished(id)\n",
    "    self._filesystem.save(observation)\n",
    "\n",
    "    return result"
   ]
  },
  {
   "attachments": {},
   "cell_type": "markdown",
   "metadata": {},
   "source": [
    "# control flow:\n",
    "\n",
    "call the experiment function with args and kwargs\n",
    "\n",
    "1. if the file structure for saving experiments does not exist, create it (takes care of versioning etc.)\n",
    "2. let the main controller know that this experiment is now running\n",
    "3. start recording metadata\n",
    "4. run the experiment\n",
    "5. stop recording metadata\n",
    "6. let the main controller know that this experiment is now finished\n",
    "7. save everything to the file system\n",
    "8. return the result\n",
    "\n",
    "\n",
    "What does an observation have?\n",
    "- id\n",
    "- config\n",
    "- result\n",
    "- metadata\n",
    "- artifacts\n",
    "\n",
    "classes and their responsibilities:\n",
    "\n",
    "Controller:\n",
    "- knows about all experiments in the current session\n",
    "- generates ids\n",
    "\n",
    "\n",
    "Experiment:\n"
   ]
  },
  {
   "cell_type": "code",
   "execution_count": 21,
   "metadata": {},
   "outputs": [],
   "source": [
    "from pathlib import Path\n",
    "\n",
    "class CommandCenter:\n",
    "    def __init__(self):\n",
    "        self.known_experiments = {}\n",
    "        self.running_experiments = []\n",
    "    \n",
    "    def register(self, experiment: Experiment):\n",
    "        # experiments are uniquely identified by their code\n",
    "        self.known_experiments[experiment.code] = experiment\n",
    "    \n",
    "    def starting(self, experiment: Experiment) -> str:\n",
    "        id = self.generate_id()\n",
    "        self.running_experiments.append((experiment, id))\n",
    "        return id\n",
    "        \n",
    "    def finished(self, experiment: Experiment):\n",
    "        current_id, current_experiment = self.running_experiments.pop()\n",
    "        assert current_experiment == experiment\n",
    "\n",
    "    def current_directory(self) -> Path:\n",
    "        \"\"\"\n",
    "        get the directory assigned to the current experiment\n",
    "        \"\"\"\n",
    "\n",
    "        id, experiment = self.running_experiments[-1]\n",
    "        return experiment.file_system.directory_for(id)\n",
    "\n",
    "    def generate_id(self) -> str:\n",
    "        return 1\n",
    "\n",
    "\n",
    "COMMAND_CENTER = CommandCenter()\n",
    "current_directory = COMMAND_CENTER.current_directory"
   ]
  },
  {
   "cell_type": "code",
   "execution_count": 22,
   "metadata": {},
   "outputs": [],
   "source": [
    "class FileSystem:\n",
    "    def __init__(self, root: Path):\n",
    "        self.root = root\n",
    "\n",
    "    def directory_for(self, id: str) -> Path:\n",
    "        return self.root / id"
   ]
  },
  {
   "cell_type": "code",
   "execution_count": 23,
   "metadata": {},
   "outputs": [],
   "source": [
    "class Experiment:\n",
    "    def __init__(self, callable):\n",
    "        self.callable = callable\n",
    "        self.file_system = FileSystem(Path(\".\"))\n",
    "\n",
    "    @property\n",
    "    def code(self):\n",
    "        # use inspect here\n",
    "        return self.callable.__code__\n",
    "    \n",
    "    def __call__(self, *args: Any, **kwds: Any) -> Any:\n",
    "        id = COMMAND_CENTER.starting(self)\n",
    "        config = get_complete_config(self.callable, args, kwds)\n",
    "        result = self.callable(*args, **kwds)\n",
    "        COMMAND_CENTER.finished(self)\n",
    "        return result\n",
    "    \n",
    "def experiment(callable):\n",
    "    return Experiment(callable)\n",
    "\n",
    "@experiment\n",
    "def my_experiment():\n",
    "    return 42"
   ]
  },
  {
   "cell_type": "code",
   "execution_count": 24,
   "metadata": {},
   "outputs": [
    {
     "ename": "NameError",
     "evalue": "name 'get_complete_config' is not defined",
     "output_type": "error",
     "traceback": [
      "\u001b[0;31m---------------------------------------------------------------------------\u001b[0m",
      "\u001b[0;31mNameError\u001b[0m                                 Traceback (most recent call last)",
      "Cell \u001b[0;32mIn [24], line 1\u001b[0m\n\u001b[0;32m----> 1\u001b[0m my_experiment()\n",
      "Cell \u001b[0;32mIn [23], line 13\u001b[0m, in \u001b[0;36mExperiment.__call__\u001b[0;34m(self, *args, **kwds)\u001b[0m\n\u001b[1;32m     11\u001b[0m \u001b[39mdef\u001b[39;00m \u001b[39m__call__\u001b[39m(\u001b[39mself\u001b[39m, \u001b[39m*\u001b[39margs: Any, \u001b[39m*\u001b[39m\u001b[39m*\u001b[39mkwds: Any) \u001b[39m-\u001b[39m\u001b[39m>\u001b[39m Any:\n\u001b[1;32m     12\u001b[0m     \u001b[39mid\u001b[39m \u001b[39m=\u001b[39m COMMAND_CENTER\u001b[39m.\u001b[39mstarting(\u001b[39mself\u001b[39m)\n\u001b[0;32m---> 13\u001b[0m     config \u001b[39m=\u001b[39m get_complete_config(\u001b[39mself\u001b[39m\u001b[39m.\u001b[39mcallable, args, kwds)\n\u001b[1;32m     14\u001b[0m     result \u001b[39m=\u001b[39m \u001b[39mself\u001b[39m\u001b[39m.\u001b[39mcallable(\u001b[39m*\u001b[39margs, \u001b[39m*\u001b[39m\u001b[39m*\u001b[39mkwds)\n\u001b[1;32m     15\u001b[0m     COMMAND_CENTER\u001b[39m.\u001b[39mfinished(\u001b[39mself\u001b[39m)\n",
      "\u001b[0;31mNameError\u001b[0m: name 'get_complete_config' is not defined"
     ]
    }
   ],
   "source": [
    "my_experiment()"
   ]
  },
  {
   "cell_type": "code",
   "execution_count": null,
   "metadata": {},
   "outputs": [],
   "source": []
  }
 ],
 "metadata": {
  "kernelspec": {
   "display_name": "de-dev",
   "language": "python",
   "name": "python3"
  },
  "language_info": {
   "codemirror_mode": {
    "name": "ipython",
    "version": 3
   },
   "file_extension": ".py",
   "mimetype": "text/x-python",
   "name": "python",
   "nbconvert_exporter": "python",
   "pygments_lexer": "ipython3",
   "version": "3.8.15"
  },
  "orig_nbformat": 4,
  "vscode": {
   "interpreter": {
    "hash": "80ed1a1fc187410e403b41aa2c43c7664c5b47123137e9ddc42c2f7703e457a4"
   }
  }
 },
 "nbformat": 4,
 "nbformat_minor": 2
}
