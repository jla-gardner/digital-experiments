{
 "cells": [
  {
   "cell_type": "code",
   "execution_count": 5,
   "metadata": {},
   "outputs": [],
   "source": [
    "from digital_experiments import experiment\n",
    "from digital_experiments.controllers import RandomSearch\n",
    "from scipy.stats import uniform\n",
    "\n",
    "\n",
    "@experiment\n",
    "def func(x, y):\n",
    "    return (2 * x - 1) * y\n",
    "\n",
    "\n",
    "RandomSearch(x=uniform(-1, 1), y=uniform(-1, 1)).control(func, n=10)"
   ]
  },
  {
   "cell_type": "code",
   "execution_count": 6,
   "metadata": {},
   "outputs": [
    {
     "data": {
      "text/plain": [
       "[Observation(2023-12-14_17-05-41_311944, {'x': -0.0028319672358961823, 'y': -0.5851695239016533} → 0.5884838857399223),\n",
       " Observation(2023-12-14_17-05-41_354573, {'x': -0.2158384703005124, 'y': -0.03989242997896203} → 0.057113072105420964),\n",
       " Observation(2023-12-14_17-05-41_390018, {'x': -0.4815754869905011, 'y': -0.06652231493618466} → 0.13059334735844189),\n",
       " Observation(2023-12-14_17-05-41_424878, {'x': -0.6307284874305668, 'y': -0.8788184847394963} → 1.9874101919510265),\n",
       " Observation(2023-12-14_17-05-41_460740, {'x': -0.9577418860494877, 'y': -0.44564884957104134} → 1.2992819889789484),\n",
       " Observation(2023-12-14_17-05-41_490900, {'x': -0.5855700521579627, 'y': -0.029578684228730445} → 0.06421946756189363),\n",
       " Observation(2023-12-14_17-05-41_523125, {'x': -0.4439011511618489, 'y': -0.07849614777768843} → 0.14818520849826144),\n",
       " Observation(2023-12-14_17-05-41_555853, {'x': -0.33094505997837054, 'y': -0.9223176004132893} → 1.5327905075890549),\n",
       " Observation(2023-12-14_17-05-41_588506, {'x': -0.6943138741088186, 'y': -0.3293563520411258} → 0.7867097215371697),\n",
       " Observation(2023-12-14_17-05-41_623713, {'x': -0.03321198727249475, 'y': -0.20510440912381755} → 0.21872825917452313)]"
      ]
     },
     "execution_count": 6,
     "metadata": {},
     "output_type": "execute_result"
    }
   ],
   "source": [
    "func.observations()"
   ]
  }
 ],
 "metadata": {
  "kernelspec": {
   "display_name": "de-dev",
   "language": "python",
   "name": "python3"
  },
  "language_info": {
   "codemirror_mode": {
    "name": "ipython",
    "version": 3
   },
   "file_extension": ".py",
   "mimetype": "text/x-python",
   "name": "python",
   "nbconvert_exporter": "python",
   "pygments_lexer": "ipython3",
   "version": "3.8.18"
  }
 },
 "nbformat": 4,
 "nbformat_minor": 2
}
